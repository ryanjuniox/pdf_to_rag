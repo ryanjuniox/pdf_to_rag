{
 "cells": [
  {
   "cell_type": "code",
   "execution_count": 3,
   "id": "dd75f050",
   "metadata": {},
   "outputs": [
    {
     "name": "stderr",
     "output_type": "stream",
     "text": [
      "huggingface/tokenizers: The current process just got forked, after parallelism has already been used. Disabling parallelism to avoid deadlocks...\n",
      "To disable this warning, you can either:\n",
      "\t- Avoid using `tokenizers` before the fork if possible\n",
      "\t- Explicitly set the environment variable TOKENIZERS_PARALLELISM=(true | false)\n"
     ]
    },
    {
     "name": "stdout",
     "output_type": "stream",
     "text": [
      "Warning: No languages specified, defaulting to English.\n"
     ]
    }
   ],
   "source": [
    "import os\n",
    "from unstructured.partition.auto import partition\n",
    "\n",
    "pdf_path = os.path.expanduser(\"~/pdf_to_rag/assets/RAG_em_CienciaDeDados.pdf\")\n",
    "elements = partition(pdf_path)"
   ]
  },
  {
   "cell_type": "code",
   "execution_count": 4,
   "id": "a45127e9",
   "metadata": {},
   "outputs": [
    {
     "name": "stdout",
     "output_type": "stream",
     "text": [
      "Paragraph 1:\n",
      "Nesta edição, vamos explorar o conceito de RAG (Retrieval Augmented Generation) e como essa tecnologia pode transformar a forma como manipulamos dados e tomamos decisões nos negócios.\n",
      "\n",
      "Paragraph 2:\n",
      "Vamos começar pelo começo: O que é RAG? RAG (Geração Aumentada por Recuperação) é uma técnica de inteligência artificial que combina o poder de recuperação de informações relevantes em grandes bases de dados com a geração de texto. Basicamente, ele funciona trazendo o melhor de dois mundos: a precisão de dados históricos e contextuais e a criatividade de modelos de linguagem natural, principalmente LLM ou Modelos de Linguagem Grandes como o GPT. Isso permite que sistemas RAG façam recomendações ou gerem respostas muito mais contextualizadas e detalhadas do que um modelo isolado de IA.\n",
      "\n",
      "Paragraph 3:\n",
      "Por que o RAG é importante para a Ciência de Dados e Negócios? A principal vantagem do RAG é que ele oferece respostas mais precisas e contextualizadas ao extrair informações relevantes de fontes específicas e usá-las para melhorar a geração de texto. Na área de ciência de dados, onde o volume de informações pode ser vasto e complexo, o RAG permite extrair insights que vão além do que um modelo tradicional de IA poderia alcançar sozinho. Para as empresas, isso representa um salto na qualidade das tomadas de decisão, já que a capacidade de recuperar informações com precisão permite que dados históricos e atuais sejam utilizados de maneira estratégica.\n",
      "\n",
      "Paragraph 4:\n",
      "Embora o RAG ofereça muitas vantagens, ele também apresenta alguns desafios:\n",
      "\n",
      "Paragraph 5:\n",
      "Algumas das principais aplicações do RAG incluem: Automação de Atendimento ao Cliente: Fornece respostas rápidas e contextualizadas para dúvidas de clientes, baseado em informações recuperadas de bases de conhecimento internas; Geração de Documentos Jurídicos: Automação na criação de contratos, baseando-se em exemplos anteriores e gerando novos documentos personalizados; Análise de Dados: Extração de insights valiosos ao combinar dados históricos com novas tendências, proporcionando uma visão completa para tomada de decisões; entre outras.\n",
      "\n"
     ]
    }
   ],
   "source": [
    "paragraphs = [el for el in elements if el.category == \"NarrativeText\"]\n",
    "for i, paragraph in enumerate(paragraphs[:5]):\n",
    "    print(f\"Paragraph {i+1}:\\n{paragraph.text}\\n\")"
   ]
  },
  {
   "cell_type": "code",
   "execution_count": 5,
   "id": "c57e6d29",
   "metadata": {},
   "outputs": [
    {
     "name": "stdout",
     "output_type": "stream",
     "text": [
      "{'text': 'Nesta edição, vamos explorar o conceito de RAG (Retrieval Augmented Generation) e como essa tecnologia pode transformar a forma como manipulamos dados e tomamos decisões nos negócios.', 'embeddings': None, '_element_id': '0a69dbb5a1ad8d51199d3a77641ef2f5', 'metadata': <unstructured.documents.elements.ElementMetadata object at 0x17fb5b830>}\n"
     ]
    }
   ],
   "source": [
    "print(vars(paragraphs[0]))"
   ]
  },
  {
   "cell_type": "code",
   "execution_count": 6,
   "id": "9cf286e4",
   "metadata": {},
   "outputs": [],
   "source": [
    "vars_paragraph = {\n",
    "    'text': 'Nesta edição, vamos explorar o conceito de RAG (Retrieval Augmented Generation) e como essa tecnologia pode transformar a forma como manipulamos dados e tomamos decisões nos negócios.',\n",
    "    'embeddings': None,\n",
    "    '_element_id': '0a69dbb5a1ad8d51199d3a77641ef2f5',\n",
    "    'metadata': \"<unstructured.documents.elements.ElementMetadata object at 0x1403c1010>\"\n",
    "}"
   ]
  },
  {
   "cell_type": "code",
   "execution_count": 7,
   "id": "1c5906bb",
   "metadata": {},
   "outputs": [
    {
     "name": "stdout",
     "output_type": "stream",
     "text": [
      "{'coordinates': CoordinatesMetadata(points=((36.0, 94.24400000000003), (36.0, 123.28399999999999), (561.82, 123.28399999999999), (561.82, 94.24400000000003)), system=<unstructured.documents.coordinates.PixelSpace object at 0x17f0cf8c0>), 'file_directory': '/Users/ryan.oliveira/pdf_to_rag/assets', 'filename': 'RAG_em_CienciaDeDados.pdf', 'last_modified': '2025-08-06T08:22:22', 'links': [], 'page_number': 1, 'languages': ['por'], '_known_field_names': frozenset({'orig_elements', 'page_name', 'emphasized_text_contents', 'languages', 'emphasized_text_tags', 'category_depth', 'image_path', 'link_start_indexes', 'sent_to', 'header_footer_type', 'text_as_html', 'coordinates', 'link_urls', 'is_continuation', 'last_modified', 'subject', 'data_source', 'key_value_pairs', 'cc_recipient', 'image_url', 'image_base64', 'signature', 'url', 'table_as_cells', 'bcc_recipient', 'parent_id', 'page_number', 'links', 'detection_origin', 'file_directory', 'attached_to_filename', 'detection_class_prob', 'filename', 'filetype', 'image_mime_type', 'email_message_id', 'sent_from', 'link_texts'}), 'filetype': 'application/pdf', 'parent_id': '01ca41a6dcf3acc477735e9f013083f2'}\n"
     ]
    }
   ],
   "source": [
    "metadata = paragraphs[0].metadata\n",
    "print(vars(metadata))"
   ]
  },
  {
   "cell_type": "code",
   "execution_count": 8,
   "id": "69f647f5",
   "metadata": {},
   "outputs": [],
   "source": [
    "metadata_paragraph = {\n",
    "    'coordinates': \"CoordinatesMetadata(points=((36.0, 94.24400000000003), (36.0, 123.28399999999999), (561.82, 123.28399999999999), (561.82, 94.24400000000003)), system=<unstructured.documents.coordinates.PixelSpace object at 0x1402b4e90>)\",\n",
    "    'file_directory': '/Users/ryan.oliveira/pdf_to_rag/assets',\n",
    "    'filename': 'RAG_em_CienciaDeDados.pdf',\n",
    "    'last_modified': '2025-08-06T08:22:22',\n",
    "    'links': [],\n",
    "    'page_number': 1,\n",
    "    'languages': ['por'],\n",
    "    '_known_field_names': frozenset({'detection_class_prob', 'header_footer_type', 'text_as_html', 'filetype', 'page_name', 'links', 'image_path', 'image_mime_type', 'link_start_indexes', 'sent_from', 'link_urls', 'cc_recipient', 'subject', 'signature', 'is_continuation', 'filename', 'emphasized_text_contents', 'url', 'data_source', 'sent_to', 'last_modified', 'email_message_id', 'parent_id', 'languages', 'coordinates', 'category_depth', 'emphasized_text_tags', 'image_url', 'key_value_pairs', 'table_as_cells', 'file_directory', 'page_number', 'image_base64', 'detection_origin', 'orig_elements', 'attached_to_filename', 'link_texts', 'bcc_recipient'}),\n",
    "    'filetype': 'application/pdf',\n",
    "    'parent_id': '01ca41a6dcf3acc477735e9f013083f2'\n",
    "}"
   ]
  },
  {
   "cell_type": "code",
   "execution_count": 9,
   "id": "9a12c879",
   "metadata": {},
   "outputs": [],
   "source": [
    "from pydantic import BaseModel\n",
    "\n",
    "class MetadataModel(BaseModel):\n",
    "    coordinates: str\n",
    "    file_directory: str\n",
    "    filename: str\n",
    "    last_modified: str\n",
    "    links: list\n",
    "    page_number: int\n",
    "    languages: list\n",
    "    _known_field_names: frozenset\n",
    "    filetype: str\n",
    "    parent_id: str\n",
    "\n",
    "class ParagraphModel(BaseModel):\n",
    "    text: str\n",
    "    embeddings: None\n",
    "    _element_id: str\n",
    "    metadata: MetadataModel"
   ]
  },
  {
   "cell_type": "code",
   "execution_count": 10,
   "id": "70d0e9e7",
   "metadata": {},
   "outputs": [],
   "source": [
    "paragraph_models = []\n",
    "for paragraph in paragraphs: \n",
    "    metadata_dict = vars(paragraph.metadata)\n",
    "\n",
    "    if not isinstance(metadata_dict['coordinates'], str):\n",
    "        metadata_dict['coordinates'] = str(metadata_dict['coordinates'])\n",
    "    \n",
    "    metadata_model = MetadataModel(**metadata_dict)\n",
    "    \n",
    "    paragraph_model = ParagraphModel(\n",
    "        text=paragraph.text,\n",
    "        embeddings=getattr(paragraph, \"embeddings\", None),\n",
    "        _element_id=getattr(paragraph, \"_element_id\", \"\"),\n",
    "        metadata=metadata_model\n",
    "    )\n",
    "\n",
    "    paragraph_models.append(paragraph_model)"
   ]
  },
  {
   "cell_type": "code",
   "execution_count": 11,
   "id": "97557073",
   "metadata": {},
   "outputs": [
    {
     "name": "stdout",
     "output_type": "stream",
     "text": [
      "Text: Nesta edição, vamos explorar o conceito de RAG (Retrieval Augmented Generation) e como essa tecnologia pode transformar a forma como manipulamos dados e tomamos decisões nos negócios.\n",
      "Page Number: 1\n",
      "File Directory: /Users/ryan.oliveira/pdf_to_rag/assets\n",
      "Filename: RAG_em_CienciaDeDados.pdf\n",
      "Languages: ['por']\n"
     ]
    }
   ],
   "source": [
    "print(f\"Text: {paragraph_models[0].text}\")\n",
    "print(f\"Page Number: {paragraph_models[0].metadata.page_number}\")\n",
    "print(f\"File Directory: {paragraph_models[0].metadata.file_directory}\")\n",
    "print(f\"Filename: {paragraph_models[0].metadata.filename}\")\n",
    "print(f\"Languages: {paragraph_models[0].metadata.languages}\")"
   ]
  },
  {
   "cell_type": "code",
   "execution_count": 12,
   "id": "97557073",
   "metadata": {},
   "outputs": [
    {
     "name": "stdout",
     "output_type": "stream",
     "text": [
      "Paragraph Text: Nesta edição, vamos explorar o conceito de RAG (Retrieval Augmented Generation) e como essa tecnologia pode transformar a forma como manipulamos dados e tomamos decisões nos negócios.\n",
      "Paragraph Text: Vamos começar pelo começo: O que é RAG? RAG (Geração Aumentada por Recuperação) é uma técnica de inteligência artificial que combina o poder de recuperação de informações relevantes em grandes bases de dados com a geração de texto. Basicamente, ele funciona trazendo o melhor de dois mundos: a precisão de dados históricos e contextuais e a criatividade de modelos de linguagem natural, principalmente LLM ou Modelos de Linguagem Grandes como o GPT. Isso permite que sistemas RAG façam recomendações ou gerem respostas muito mais contextualizadas e detalhadas do que um modelo isolado de IA.\n",
      "Paragraph Text: Por que o RAG é importante para a Ciência de Dados e Negócios? A principal vantagem do RAG é que ele oferece respostas mais precisas e contextualizadas ao extrair informações relevantes de fontes específicas e usá-las para melhorar a geração de texto. Na área de ciência de dados, onde o volume de informações pode ser vasto e complexo, o RAG permite extrair insights que vão além do que um modelo tradicional de IA poderia alcançar sozinho. Para as empresas, isso representa um salto na qualidade das tomadas de decisão, já que a capacidade de recuperar informações com precisão permite que dados históricos e atuais sejam utilizados de maneira estratégica.\n",
      "Paragraph Text: Embora o RAG ofereça muitas vantagens, ele também apresenta alguns desafios:\n",
      "Paragraph Text: Algumas das principais aplicações do RAG incluem: Automação de Atendimento ao Cliente: Fornece respostas rápidas e contextualizadas para dúvidas de clientes, baseado em informações recuperadas de bases de conhecimento internas; Geração de Documentos Jurídicos: Automação na criação de contratos, baseando-se em exemplos anteriores e gerando novos documentos personalizados; Análise de Dados: Extração de insights valiosos ao combinar dados históricos com novas tendências, proporcionando uma visão completa para tomada de decisões; entre outras.\n",
      "Paragraph Text: Vamos pensar em um exemplo prático: você é um pequeno empresário do ramo imobiliário e quer automatizar o processo de criação de contratos de locação ou compra e venda. O RAG pode ajudar a gerar contratos automaticamente, buscando informações anteriores (cláusulas padrão, termos preferenciais etc.) e adaptando-as a novos clientes. Aqui está um passo a passo simples para implementar o RAG:\n",
      "Paragraph Text: O RAG está transformando a forma como trabalhamos com dados e informações, permitindo maior precisão e contexto nas respostas geradas. Se você trabalha com grandes volumes de informações ou precisa automatizar a geração de documentos e relatórios complexos, essa pode ser uma solução extremamente poderosa.\n",
      "Paragraph Text: Esperamos que você tenha achado esta edição útil. Na próxima, continuaremos explorando ferramentas e tecnologias que podem aprimorar suas habilidades em Ciência de Dados.\n"
     ]
    }
   ],
   "source": [
    "for paragraph in paragraph_models:\n",
    "    print(f\"Paragraph Text: {paragraph.text}\")"
   ]
  },
  {
   "cell_type": "code",
   "execution_count": 13,
   "id": "0e8ccbba",
   "metadata": {},
   "outputs": [
    {
     "name": "stdout",
     "output_type": "stream",
     "text": [
      "Title 1:\n",
      "Olá! Bem-vindo(a) à nossa newsletter semanal sobre Ciência de Dados!\n",
      "\n",
      "Title 2:\n",
      "pode exigir grande esforço de manutenção.\n",
      "\n",
      "Title 3:\n",
      "natural requer uma combinação de técnicas de IA avançadas.\n",
      "\n",
      "Title 4:\n",
      "se tornar complexo.\n",
      "\n",
      "Title 5:\n",
      "Passo a Passo de Implementação de RAG\n",
      "\n",
      "5\n"
     ]
    }
   ],
   "source": [
    "titles = [el.text for el in elements if el.category == \"Title\"]\n",
    "for i, title in enumerate(titles):\n",
    "    print(f\"Title {i+1}:\\n{title}\\n\")\n",
    "print(len(titles))"
   ]
  },
  {
   "cell_type": "code",
   "execution_count": 14,
   "id": "33721fb5",
   "metadata": {},
   "outputs": [
    {
     "name": "stdout",
     "output_type": "stream",
     "text": [
      "Header 1:\n",
      "RAG (Retrieval Augmented Generation) Aplicado à Ciência de Dados\n",
      "\n",
      "Header 2:\n",
      "utilizar o SQLite ou o PostgreSQL, que são bancos de dados gratuitos e de código aberto, ideais para armazenar e consultar dados de forma eficiente.\n",
      "\n",
      "2\n"
     ]
    }
   ],
   "source": [
    "headers = [el for el in elements if el.category == \"Header\"]\n",
    "for i, header in enumerate(headers):\n",
    "    print(f\"Header {i+1}:\\n{header.text}\\n\")\n",
    "print(len(headers))"
   ]
  },
  {
   "cell_type": "code",
   "execution_count": 15,
   "id": "e559fe70",
   "metadata": {},
   "outputs": [
    {
     "name": "stdout",
     "output_type": "stream",
     "text": [
      "List Item 1:\n",
      "Curadoria de dados: É essencial que as bases de dados sejam precisas e atualizadas, o que\n",
      "\n",
      "List Item 2:\n",
      "Treinamento de modelos: Integrar recuperação de informações com modelos de linguagem\n",
      "\n",
      "List Item 3:\n",
      "Escalabilidade: Em grandes volumes de dados, manter a performance do sistema RAG pode\n",
      "\n",
      "List Item 4:\n",
      "1. Criação de uma base de dados de contratos antigos: Colete todos os contratos anteriores e armazene-os em um formato acessível (JSON, CSV, banco de dados). Para isso, você pode\n",
      "\n",
      "List Item 5:\n",
      "2. Desenvolvimento ou integração com um modelo de linguagem natural: Utilize um modelo de IA como o GPT, que será responsável por gerar novas versões dos contratos. Existem vários modelos de código aberto e gratuitos, como o Llama, Falcon, Mistral, Phi, Gemma entre outros. Essas ferramentas oferecem modelos de linguagem poderosos, acessíveis e escaláveis para microempresas.\n",
      "\n",
      "List Item 6:\n",
      "3. Configuração da camada de recuperação de dados: Configure um sistema de busca que permita recuperar partes relevantes dos contratos antigos, como cláusulas padrões, exigências de clientes, ou modelos específicos. Você pode utilizar ferramentas de busca de código aberto, como o Elasticsearch ou o Whoosh. Esses sistemas permitem indexar documentos e realizar consultas de maneira eficiente.\n",
      "\n",
      "List Item 7:\n",
      "4. Combinação das informações: Integre o modelo de IA com a camada de recuperação, permitindo que ele gere um novo contrato com base nas informações recuperadas, ajustando os detalhes ao cliente atual. Para a integração, você pode utilizar bibliotecas de código aberto como Haystack, que facilita a implementação de sistemas RAG ao integrar recuperação de dados e geração de texto com IA.\n",
      "\n",
      "List Item 8:\n",
      "5. Automatização do processo: Crie um sistema que permita preencher automaticamente as informações básicas de um novo contrato e permita ao modelo gerar a versão final personalizada. Ferramentas como Flask ou FastAPI podem ser utilizadas para construir interfaces simples de aplicação web que conectam as etapas de recuperação e geração de dados, permitindo ao usuário final interagir com o sistema.\n",
      "\n",
      "List Item 9:\n",
      "6. Validação e Ajustes: Sempre inclua uma etapa de revisão e validação humana antes de finalizar o documento. Para facilitar essa etapa, ferramentas de automação de fluxo de trabalho, como Camunda ou Apache Airflow, podem ser utilizadas para gerenciar as etapas de revisão e aprovação dos contratos, garantindo que nada seja publicado sem a devida supervisão.\n",
      "\n",
      "9\n"
     ]
    }
   ],
   "source": [
    "list_item = [el for el in elements if el.category == \"ListItem\"]\n",
    "for i, item in enumerate(list_item):\n",
    "    print(f\"List Item {i+1}:\\n{item.text}\\n\")\n",
    "print(len(list_item))"
   ]
  },
  {
   "cell_type": "code",
   "execution_count": 27,
   "id": "51678e4a",
   "metadata": {},
   "outputs": [
    {
     "name": "stdout",
     "output_type": "stream",
     "text": [
      "{'text': 'Por que o RAG é importante para a Ciência de Dados e Negócios? A principal vantagem do RAG é que ele oferece respostas mais precisas e contextualizadas ao extrair informações relevantes de fontes específicas e usá-las para melhorar a geração de texto. Na área de ciência de dados, onde o volume de informações pode ser vasto e complexo, o RAG permite extrair insights que vão além do que um modelo tradicional de IA poderia alcançar sozinho. Para as empresas, isso representa um salto na qualidade das tomadas de decisão, já que a capacidade de recuperar informações com precisão permite que dados históricos e atuais sejam utilizados de maneira estratégica.\\n\\nEmbora o RAG ofereça muitas vantagens, ele também apresenta alguns desafios:\\n\\nCuradoria de dados: É essencial que as bases de dados sejam precisas e atualizadas, o que\\n\\npode exigir grande esforço de manutenção.\\n\\nTreinamento de modelos: Integrar recuperação de informações com modelos de linguagem', 'embeddings': None, '_element_id': None, 'metadata': <unstructured.documents.elements.ElementMetadata object at 0x188938e30>}\n",
      "{'file_directory': '/Users/ryan.oliveira/pdf_to_rag/assets', 'filename': 'RAG_em_CienciaDeDados.pdf', 'filetype': 'application/pdf', 'languages': ['por'], 'last_modified': '2025-08-06T08:22:22', 'page_number': 1, 'orig_elements': [<unstructured.documents.elements.Header object at 0x17f9fc9e0>, <unstructured.documents.elements.Title object at 0x17fac9f10>, <unstructured.documents.elements.NarrativeText object at 0x17fb5ac30>, <unstructured.documents.elements.NarrativeText object at 0x17f994aa0>]}\n"
     ]
    }
   ],
   "source": [
    "from unstructured.chunking.basic import chunk_elements\n",
    "\n",
    "chunks = chunk_elements(elements, max_characters=1000)\n",
    "chunks_metadata = [vars(chunk.metadata) for chunk in chunks]\n",
    "\n",
    "print(vars(chunks[1]))\n",
    "print(vars(chunks[0].metadata))"
   ]
  },
  {
   "cell_type": "code",
   "execution_count": 26,
   "id": "72dab176",
   "metadata": {},
   "outputs": [
    {
     "data": {
      "text/plain": [
       "{'text': 'RAG (Retrieval Augmented Generation) Aplicado à Ciência de Dados\\n\\nOlá! Bem-vindo(a) à nossa newsletter semanal sobre Ciência de Dados!\\n\\nNesta edição, vamos explorar o conceito de RAG (Retrieval Augmented Generation) e como essa tecnologia pode transformar a forma como manipulamos dados e tomamos decisões nos negócios.\\n\\nVamos começar pelo começo: O que é RAG? RAG (Geração Aumentada por Recuperação) é uma técnica de inteligência artificial que combina o poder de recuperação de informações relevantes em grandes bases de dados com a geração de texto. Basicamente, ele funciona trazendo o melhor de dois mundos: a precisão de dados históricos e contextuais e a criatividade de modelos de linguagem natural, principalmente LLM ou Modelos de Linguagem Grandes como o GPT. Isso permite que sistemas RAG façam recomendações ou gerem respostas muito mais contextualizadas e detalhadas do que um modelo isolado de IA.',\n",
       " 'embeddings': None,\n",
       " '_element_id': None,\n",
       " 'metadata': '<unstructured.documents.elements.ElementMetadata object at 0x17f09e5a0>}'}"
      ]
     },
     "execution_count": 26,
     "metadata": {},
     "output_type": "execute_result"
    }
   ],
   "source": [
    "{\n",
    "    'text': 'RAG (Retrieval Augmented Generation) Aplicado à Ciência de Dados\\n\\nOlá! Bem-vindo(a) à nossa newsletter semanal sobre Ciência de Dados!\\n\\nNesta edição, vamos explorar o conceito de RAG (Retrieval Augmented Generation) e como essa tecnologia pode transformar a forma como manipulamos dados e tomamos decisões nos negócios.\\n\\nVamos começar pelo começo: O que é RAG? RAG (Geração Aumentada por Recuperação) é uma técnica de inteligência artificial que combina o poder de recuperação de informações relevantes em grandes bases de dados com a geração de texto. Basicamente, ele funciona trazendo o melhor de dois mundos: a precisão de dados históricos e contextuais e a criatividade de modelos de linguagem natural, principalmente LLM ou Modelos de Linguagem Grandes como o GPT. Isso permite que sistemas RAG façam recomendações ou gerem respostas muito mais contextualizadas e detalhadas do que um modelo isolado de IA.', \n",
    "    'embeddings': None, \n",
    "    '_element_id': None, \n",
    "    'metadata': \"<unstructured.documents.elements.ElementMetadata object at 0x17f09e5a0>}\"\n",
    "}\n"
   ]
  },
  {
   "cell_type": "code",
   "execution_count": 17,
   "id": "85356a18",
   "metadata": {},
   "outputs": [
    {
     "data": {
      "text/plain": [
       "{'file_directory': '/Users/ryan.oliveira/pdf_to_rag/assets',\n",
       " 'filename': 'RAG_em_CienciaDeDados.pdf',\n",
       " 'filetype': 'application/pdf',\n",
       " 'languages': ['por'],\n",
       " 'last_modified': '2025-08-06T08:22:22',\n",
       " 'page_number': 1,\n",
       " 'orig_elements': '[<unstructured.documents.elements.Header object at 0x13e5eff20>, <unstructured.documents.elements.Title object at 0x13dc84980>, <unstructured.documents.elements.NarrativeText object at 0x13e6aef90>]'}"
      ]
     },
     "execution_count": 17,
     "metadata": {},
     "output_type": "execute_result"
    }
   ],
   "source": [
    "{\n",
    "    'file_directory': '/Users/ryan.oliveira/pdf_to_rag/assets', \n",
    "    'filename': 'RAG_em_CienciaDeDados.pdf', \n",
    "    'filetype': 'application/pdf', \n",
    "    'languages': ['por'], \n",
    "    'last_modified': '2025-08-06T08:22:22', \n",
    "    'page_number': 1, \n",
    "    'orig_elements': \"[<unstructured.documents.elements.Header object at 0x13e5eff20>, <unstructured.documents.elements.Title object at 0x13dc84980>, <unstructured.documents.elements.NarrativeText object at 0x13e6aef90>]\"\n",
    "}"
   ]
  },
  {
   "cell_type": "code",
   "execution_count": 32,
   "id": "3f3296f3",
   "metadata": {},
   "outputs": [],
   "source": [
    "import pydantic\n",
    "\n",
    "class ChunkMetadataModel(BaseModel):\n",
    "    file_directory: str\n",
    "    filename: str\n",
    "    filetype: str\n",
    "    languages: list\n",
    "    last_modified: str\n",
    "    page_number: int\n",
    "    orig_elements: list\n",
    "\n",
    "class ChunkModel(BaseModel):\n",
    "    text: str\n",
    "    embeddings: None\n",
    "    _element_id: str\n",
    "    metadata: ChunkMetadataModel"
   ]
  },
  {
   "cell_type": "code",
   "execution_count": 33,
   "id": "54c7f49d",
   "metadata": {},
   "outputs": [],
   "source": [
    "chunks_model = [\n",
    "    ChunkModel(\n",
    "        text=chunk.text,\n",
    "        embeddings=None,\n",
    "        _element_id=chunk._element_id if chunk._element_id is not None else \"\",\n",
    "        metadata=ChunkMetadataModel(**vars(chunk.metadata))\n",
    "    )\n",
    "    for chunk in chunks\n",
    "]"
   ]
  },
  {
   "cell_type": "code",
   "execution_count": 34,
   "id": "61d68738",
   "metadata": {},
   "outputs": [],
   "source": [
    "from sentence_transformers import SentenceTransformer\n",
    "\n",
    "\n",
    "# Initialize the model\n",
    "model = SentenceTransformer('all-MiniLM-L6-v2')\n",
    "embeddings = model.encode([chunk.text for chunk in chunks_model], convert_to_tensor=True).tolist()\n"
   ]
  },
  {
   "cell_type": "code",
   "execution_count": 36,
   "id": "513ea498",
   "metadata": {},
   "outputs": [
    {
     "name": "stdout",
     "output_type": "stream",
     "text": [
      "Embeddings:\n",
      "[-0.06621938943862915, 0.05365533009171486, -0.017777094617486, -0.04171613231301308, -0.1044425442814827, 0.003414630191400647, -0.030998174101114273, 0.0222834050655365, 0.020139211788773537, 0.0038597530219703913, 0.0725453644990921, 0.03510088473558426, 0.04884802922606468, -0.01623886078596115, 0.004113408271223307, 0.030291087925434113, 0.04122956469655037, 0.12285242229700089, 0.008892645128071308, 0.03619732707738876, 0.08289770036935806, 0.029823094606399536, 0.01590513437986374, -0.03611769154667854, -0.00907345861196518, 0.023618631064891815, -0.06819714605808258, -0.007117491215467453, 0.0624820776283741, -0.023336654528975487, -0.030031023547053337, 0.1128462478518486, 0.055729229003190994, 0.02768901363015175, -0.07163132727146149, -0.007702064234763384, 0.011125879362225533, 0.023205533623695374, -0.009321282617747784, 0.06900843232870102, -0.08921454846858978, 0.05645354837179184, -0.011567621491849422, -0.09875094890594482, 0.06442739814519882, -0.016950756311416626, -0.03636366128921509, 0.0296805277466774, -0.02651594579219818, 0.0003645773103926331, -0.05753224715590477, -0.04764159023761749, 0.03655635938048363, 0.04726066067814827, -0.07023508101701736, -0.029026053845882416, 0.05651499703526497, -0.049986276775598526, -0.0019651674665510654, 0.023714765906333923, -0.0657317265868187, -0.023614490404725075, -0.06356670707464218, 0.04953739419579506, 0.027847900986671448, -0.02261533960700035, 0.04637734219431877, 0.02312537096440792, -0.055968768894672394, -0.0023614056408405304, -0.061470627784729004, -0.027886992320418358, -0.005746017210185528, 0.1187443733215332, 0.03893868252635002, 0.10066116601228714, -0.0205607321113348, -0.028469813987612724, -0.05212067440152168, -0.06364969164133072, -0.03947731480002403, 0.027101565152406693, 0.038756050169467926, 0.022274497896432877, -0.017363911494612694, 0.037521202117204666, -0.015937866643071175, -0.0025193896144628525, 0.005215998273342848, -0.01371734868735075, 0.006966001354157925, -0.05466330423951149, 0.02381589449942112, -0.059225186705589294, 0.033510174602270126, -0.03095325455069542, 0.04465128108859062, 0.020997770130634308, 0.0009106149082072079, -0.051024891436100006, 0.0774284079670906, 0.019245164468884468, 0.09289354085922241, 0.02721850387752056, -0.06580601632595062, -0.047538094222545624, -0.05072628706693649, -0.043084435164928436, 0.0405634269118309, 0.04230529069900513, -0.06296480447053909, -0.04529290273785591, -0.0568692646920681, -0.09734947979450226, -0.08500775694847107, -0.04089626669883728, 0.04062357544898987, -0.09766148775815964, 0.04284622520208359, 0.0008343053050339222, 0.045393284410238266, 0.011336090043187141, -0.0012460143771022558, -0.028221214190125465, -0.010700825601816177, 0.0032263360917568207, 0.1011253297328949, 4.5859318662920045e-33, 0.016544140875339508, 0.06900683045387268, -0.026025576516985893, 0.05408960580825806, 0.020422834903001785, 0.03609519079327583, -0.03589364513754845, -0.041801467537879944, 0.04099301993846893, -0.04352821782231331, -0.05399420112371445, 0.16433265805244446, -0.03887740522623062, 0.022837208583950996, 0.08619922399520874, 0.05522967129945755, -0.032774023711681366, 0.006635802797973156, 0.07058867067098618, 0.030056333169341087, -0.07636776566505432, 0.05139656364917755, 0.052102699875831604, -0.09411671757698059, -0.03345411643385887, 0.1207900419831276, 0.020684827119112015, -0.06014073267579079, -0.09312218427658081, 0.01429583877325058, -0.024574298411607742, 0.004298171494156122, -0.024035753682255745, -0.04924561455845833, -0.06798595935106277, -0.06404628604650497, -0.008349217474460602, -0.03657178953289986, 0.0010667984606698155, 0.02131526544690132, 0.003323271404951811, -0.04957938194274902, 0.002885159570723772, -0.033000633120536804, 0.01465904712677002, -0.05368185043334961, 0.06585730612277985, 0.005335712805390358, 0.04790441319346428, 0.11073292791843414, 0.018092168495059013, -0.0005875276983715594, -0.11195636540651321, -0.048054881393909454, 0.04691975936293602, 0.06494154036045074, -0.06190840154886246, -0.014729668386280537, -0.04049075022339821, -0.00017957626550924033, -0.0009812022326514125, 0.01919819600880146, 0.12955701351165771, 0.03542086109519005, 0.03292965143918991, -0.046720199286937714, 0.025581320747733116, 0.00959042552858591, 0.07724302262067795, 0.07069262117147446, -0.025427356362342834, -0.09372586011886597, -0.054930705577135086, 0.004953370895236731, 0.026507098227739334, 0.0017900237580761313, 0.041909292340278625, -0.006133026909083128, 0.011375642381608486, -0.006593137979507446, 0.024662723764777184, -0.06674196571111679, 0.036018840968608856, -0.044074151664972305, -0.03238721191883087, 0.017943570390343666, 0.03713256120681763, -0.04709275811910629, -0.027422230690717697, -0.0007075878675095737, -0.0332559198141098, 0.04418176785111427, -0.0759609043598175, 0.011316708289086819, 0.06439147144556046, -8.505544310711996e-33, 0.07323908060789108, -0.03482033684849739, -0.0023339407052844763, -0.0004881393688265234, 0.00544136855751276, -0.0541340708732605, 0.01065988838672638, 0.03348846733570099, -0.10408095270395279, -0.08343982696533203, -0.07403218001127243, -0.03160836920142174, 0.03894150257110596, 0.013068296946585178, 0.006884379778057337, 0.03505900502204895, -0.041792575269937515, -0.02737496979534626, -0.035647597163915634, 0.0325903594493866, 0.02780919335782528, 0.019309455528855324, -0.062450110912323, 0.005700283218175173, 0.00988043937832117, -0.09233354777097702, 0.010295945219695568, -0.07278207689523697, -0.015211391262710094, 0.01589164324104786, 0.003910907078534365, -0.04920497536659241, 0.09038335829973221, 0.09581877291202545, 0.005835638847202063, 0.012720434926450253, 0.10201511532068253, 0.041688233613967896, -0.050609637051820755, 0.007881911471486092, 0.017549671232700348, 0.07536637037992477, -0.029345212504267693, -0.07229490578174591, -0.03252871707081795, -0.001166461268439889, -0.12623780965805054, -0.005230269860476255, -0.04241073876619339, -0.009655927307903767, 0.08608812838792801, -0.020147118717432022, -0.011406393721699715, -0.10150034725666046, -0.05070016533136368, -0.025245456025004387, 0.0060400511138141155, -0.11069292575120926, -0.09619374573230743, 0.10050059854984283, -0.006963049061596394, 0.01912233605980873, -0.0848546177148819, -0.07590673863887787, 0.028007594868540764, -0.01326147560030222, -0.0369684062898159, -0.019750069826841354, -0.17033381760120392, -0.015045888721942902, 0.04042278230190277, -0.04361508786678314, 0.025355612859129906, -0.04132721573114395, 0.032258275896310806, 0.01921948976814747, 0.0038240246940404177, -0.0035137198865413666, 0.00479999091476202, -0.04552339389920235, -0.09179839491844177, 0.002440320560708642, 0.03277929872274399, 0.046340543776750565, -0.026841096580028534, 0.023465504869818687, -0.14976176619529724, 0.04536711424589157, -0.002277638763189316, -0.018366754055023193, 0.012372728437185287, 0.05215676873922348, -0.037170954048633575, 0.06551163643598557, 0.004663081374019384, -5.572368522166471e-08, 0.032474879175424576, -0.04338555037975311, 0.04623787850141525, 0.01470987219363451, -0.028352761641144753, -0.043878450989723206, -0.03014933504164219, 0.006945200730115175, -0.04617109149694443, 0.019985496997833252, -0.01674688421189785, -0.015485662035644054, -0.10399962216615677, 0.06348272413015366, 0.051717471331357956, -0.03157701715826988, 0.05134586617350578, 0.005451610311865807, -0.03074304759502411, -0.034456562250852585, 0.11445250362157822, 0.039011381566524506, 0.006015184801071882, -0.014971763826906681, -0.018603334203362465, 0.0002731990534812212, -0.04373279958963394, 0.05048045516014099, 0.026117363944649696, -0.026404591277241707, 0.028686143457889557, 0.002903629094362259, -0.05433662608265877, -0.05739085003733635, -0.037936627864837646, -0.05977568030357361, -0.006531774997711182, -0.06964337080717087, -0.005041989963501692, -0.030011357739567757, 0.13386109471321106, 0.0015130663523450494, -0.04360050708055496, -0.04298697039484978, 0.06392742693424225, 0.02472023293375969, 0.009809749200940132, -0.038367290049791336, -0.006872814614325762, 0.051798224449157715, -0.10443592071533203, -0.030639881268143654, 0.06236712262034416, 0.002993629314005375, 0.011346051469445229, -0.06649107486009598, 0.08680058270692825, -0.0175319854170084, 0.00816670898348093, 0.012554912827908993, 0.1221291795372963, 0.02808484621345997, 0.008376200683414936, 0.041677553206682205]\n",
      "[-0.020811546593904495, 0.053747691214084625, -0.033078163862228394, -0.07520685344934464, -0.09216059744358063, -0.00297358725219965, -0.030679596588015556, 0.06493419408798218, 0.02362038753926754, 0.0017462025862187147, 0.04324479401111603, -0.019076930359005928, 0.02772599272429943, -0.002025857800617814, 0.015083830803632736, 0.013953754678368568, 0.05066615715622902, 0.1023280993103981, -0.005319646559655666, 0.07874947786331177, 0.09739413112401962, -0.029538365080952644, -0.0013393608387559652, 0.016969401389360428, -0.032283928245306015, 0.05495204031467438, -0.030594628304243088, 0.016161339357495308, -0.003952057100832462, -0.06276826560497284, -0.06645245105028152, 0.09052890539169312, 0.1575624644756317, -0.004955373704433441, -0.08350653946399689, 0.005384216085076332, 0.051435619592666626, 0.009422716684639454, -0.018490156158804893, 0.10375826060771942, -0.056815460324287415, 0.06629152595996857, -0.0207070242613554, -0.055471278727054596, 0.012951246462762356, -0.032419633120298386, 0.06033537536859512, 0.0384519025683403, 0.00468504149466753, 0.012929367832839489, -0.055559929460287094, -0.031202826648950577, -0.011023398488759995, 0.005558843724429607, -0.014133458957076073, -0.030580680817365646, -0.031233277171850204, -0.05848103016614914, -0.01938643865287304, 0.03546042740345001, -0.03648269921541214, -0.004804922267794609, -0.03296707198023796, 0.03649850934743881, 0.05048290640115738, -0.03486490622162819, 0.034024182707071304, 0.0284392312169075, -0.11087343096733093, -0.014092549681663513, 0.020441614091396332, -0.042964428663253784, -0.002765133511275053, 0.07178395241498947, -0.08217961341142654, 0.11202235519886017, -0.0320725180208683, -0.03531260788440704, -0.062055621296167374, -0.12445978820323944, -0.0010485770180821419, 0.06735993921756744, 0.012470657005906105, 0.0052073048427701, -0.009214961901307106, 0.014765243977308273, -0.01668570190668106, -0.006472279317677021, -0.009378407150506973, -0.00018533797992859036, 0.03800727054476738, -0.08198599517345428, -0.03905631601810455, -0.043533340096473694, 0.018190842121839523, 0.014246227219700813, 0.0045341369695961475, 0.005060181487351656, 0.0270393043756485, -0.054939862340688705, 0.09430006891489029, 0.026595167815685272, 0.06077369675040245, -0.012606709264218807, -0.03138821944594383, -0.07736040651798248, -0.032141637057065964, -0.008858847431838512, -0.020575538277626038, 0.11388441920280457, -0.0650613009929657, -0.05178546532988548, -0.15893001854419708, -0.048186685889959335, -0.07230263203382492, -0.04189462959766388, 0.03138357773423195, -0.09737173467874527, 0.003025147831067443, -0.04662732779979706, 0.024973561987280846, -0.024247432127594948, 0.02598429284989834, -0.01428456325083971, 0.005544413812458515, -0.012841745279729366, 0.040313199162483215, 5.424561127579303e-33, -0.053785353899002075, 0.06970205903053284, -0.008554753847420216, 0.05488430708646774, -0.01400011032819748, 0.045673150569200516, -0.0754270926117897, 0.0025269323959946632, 0.0074388678185641766, -0.013970663771033287, -0.04234704747796059, 0.1799919158220291, 0.007383497431874275, 0.00970746111124754, 0.0849522203207016, 0.021993858739733696, 0.019489077851176262, -0.02963433787226677, 0.046083129942417145, -0.03220611438155174, -0.078999362885952, 0.06746264547109604, 0.024613218382000923, -0.08137228339910507, -0.012354177422821522, 0.08944351226091385, 0.02231353335082531, -0.05194711685180664, -0.14999116957187653, 0.0075947497971355915, -0.005602177698165178, -0.010905588045716286, 0.02000311389565468, -0.04425507038831711, -0.01953979954123497, -0.02849169634282589, -0.03562474995851517, -0.04292113706469536, -0.008781366050243378, 0.012718142941594124, -0.031966548413038254, -0.03067558817565441, 0.020735634490847588, 0.006105554290115833, 0.03266091272234917, 0.0020570687483996153, 0.041123166680336, -0.016197897493839264, 0.06743283569812775, 0.05503265932202339, 0.006872317288070917, -0.00841719750314951, -0.061580441892147064, -0.0368008017539978, 0.02944815717637539, 0.07942995429039001, -0.06531232595443726, -0.028851434588432312, -0.08056152611970901, -0.0492781363427639, -0.028656959533691406, -0.0388440266251564, 0.04246245697140694, 0.02288200706243515, 0.00046648431452922523, 0.01052017416805029, -0.03276021033525467, 0.03997300565242767, 0.058501601219177246, 0.03238154947757721, -0.03614427149295807, -0.07419808954000473, -0.04444919899106026, 0.05315164104104042, -0.029211407527327538, 0.061507124453783035, 0.04120129346847534, 0.0168302021920681, -0.011640671640634537, 0.051013581454753876, 0.017168927937746048, -0.04874034598469734, 0.027628548443317413, -0.030254149809479713, -0.024060910567641258, 0.0636165589094162, 0.06332866847515106, 0.03107338584959507, -0.028970619663596153, 0.08179613202810287, -0.049625832587480545, 0.05718216300010681, -0.036623816937208176, -0.05416730046272278, 0.04417789354920387, -1.0801370735892327e-32, 0.03658044710755348, -0.014776576310396194, -0.021315915510058403, -0.03714386373758316, 0.020334960892796516, -0.03844968602061272, -0.01907324604690075, 0.0066883983090519905, -0.11470227688550949, -0.09566765278577805, -0.06713902205228806, -0.05334677919745445, 0.04740633815526962, -0.03490661084651947, -0.05845622345805168, 0.04028340429067612, -0.019779453054070473, -0.007730521261692047, -0.0680730864405632, -0.033587582409381866, 0.00433212798088789, 0.07106970995664597, -0.042066436260938644, 0.0028476673178374767, 0.029056865721940994, -0.08293554186820984, -0.0440400168299675, -0.05277233570814133, -0.07031287252902985, 0.01907665841281414, -0.006591965910047293, -0.06988054513931274, 0.10222762078046799, 0.09026212245225906, -0.019111528992652893, 0.006650384981185198, 0.06117897108197212, -0.00846459623426199, -0.04017116501927376, 0.06310557574033737, 0.03165600448846817, 0.09218604862689972, 0.029182106256484985, -0.04670064151287079, -0.07093563675880432, -0.006985105108469725, -0.09353883564472198, -0.06926675140857697, -0.04235439375042915, -0.030496524646878242, 0.08787109702825546, -0.03654748201370239, -0.010258657857775688, -0.044221680611371994, 0.01924278773367405, -0.006318502128124237, -0.0006269254954531789, -0.07291249930858612, -0.11652284115552902, 0.0767577737569809, 0.03862125799059868, 0.030941279605031013, -0.13116863369941711, -0.08302237093448639, 0.0024695778265595436, -0.046248503029346466, -0.050759267061948776, 0.0034986347891390324, -0.12993331253528595, 0.0014858065405860543, 0.06575950980186462, -0.10538473725318909, -0.014667745679616928, 0.00019578747742343694, -0.03703496232628822, -0.031949497759342194, -0.007804684340953827, 0.06795172393321991, -0.0014467895962297916, 0.009431645274162292, -0.056356899440288544, -0.0007394212880171835, -0.03455674648284912, 0.03178856149315834, 0.02125692553818226, 0.05471358075737953, -0.07141054421663284, -0.013074221089482307, -0.015754934400320053, -0.02285751886665821, -0.006426168605685234, 0.009855784475803375, -0.05367578566074371, 0.04994317516684532, 0.004925381392240524, -5.895220311913363e-08, 0.04452944174408913, -0.06469303369522095, 0.05134023353457451, -0.01764434017241001, -0.02382381446659565, -0.07585084438323975, -0.0031520104967057705, 0.00938216969370842, -0.05994177237153053, 0.0721069946885109, 0.024836139753460884, -0.0054000685922801495, -0.11725892871618271, 0.04238264635205269, 0.04834451526403427, -0.016999369487166405, 0.08370304107666016, -0.006388884969055653, -0.032433874905109406, -0.058994073420763016, 0.10927272588014603, 0.028437884524464607, -0.06762482225894928, 0.01882476732134819, 0.005772320553660393, 0.03801625967025757, -0.04399330914020538, 0.002089640824124217, 0.013571127317845821, 0.0512399822473526, 0.020292792469263077, -0.015978913754224777, -0.031169570982456207, -0.06835764646530151, -0.05567719787359238, -0.05707019940018654, 0.003248800989240408, -0.041234519332647324, 0.008094584569334984, 0.010920658707618713, 0.09937123209238052, -0.04281774163246155, -0.01106194220483303, 0.001990798395127058, 0.06071368232369423, 0.028681105002760887, -0.0013882514322176576, 0.07854008674621582, -0.0023194109089672565, 0.07460659742355347, -0.06909745931625366, 0.01779240369796753, 0.0420055128633976, 0.0031065214425325394, -0.02203761413693428, -0.04820026084780693, 0.05591321736574173, 0.03971477225422859, -0.03393104672431946, -0.0044308132492005825, 0.15377399325370789, 0.024109378457069397, -0.00017878648941405118, 0.014128251932561398]\n",
      "[-0.021269027143716812, 0.11128046363592148, -0.022214403375983238, -0.06224411725997925, -0.10516374558210373, -0.009945686906576157, -0.02667166106402874, 0.08867864310741425, 0.004892479628324509, 0.06307850033044815, 0.060063932090997696, -0.010493203997612, -0.02848050557076931, -0.002872939920052886, -0.04099346697330475, 0.009576831944286823, -0.002637863392010331, 0.12400434166193008, -0.001886280719190836, 0.1008446216583252, 0.0914650708436966, 0.016723508015275, -0.025051619857549667, 0.024721816182136536, -0.06487025320529938, 0.046287551522254944, -0.06100314110517502, -0.022768724709749222, 0.0016721453284844756, -0.015076259151101112, -0.03421349823474884, 0.025991166010499, 0.1259412318468094, 0.020575661212205887, -0.06751617789268494, -0.026722699403762817, 0.00579984812065959, 0.04236610233783722, -0.005483228247612715, 0.07145895808935165, -0.06712687760591507, -0.007159498054534197, -0.05087724328041077, -0.08101535588502884, 0.04230361431837082, 0.0062512787990272045, -0.006389061454683542, 0.04567261412739754, 0.004180188290774822, 0.05956142768263817, -0.08520226180553436, -0.024583693593740463, -0.007375640328973532, 0.017266282811760902, 0.003799568396061659, -0.039401717483997345, -0.007514303550124168, -0.0157636646181345, -0.01879045180976391, 0.029950467869639397, -0.014478798024356365, 0.014443258754909039, -0.07017838209867477, 0.0750301331281662, 0.01991480216383934, -0.016775932163000107, 0.03123176284134388, 0.05338011309504509, -0.025605782866477966, 0.036591921001672745, 0.014612244442105293, -0.08501527458429337, -0.00044916931074112654, 0.1412123590707779, -0.01265221182256937, 0.04703623801469803, -0.043024662882089615, -0.04288185387849808, -0.053759463131427765, -0.10339409857988358, -0.026692302897572517, 0.018234513700008392, -0.0031427221838384867, 0.019333917647600174, -0.01944000832736492, 0.01368823554366827, -0.02709425613284111, -0.016851114109158516, 0.015602605417370796, 0.025755727663636208, 0.02744399942457676, -0.04545897990465164, -0.0374988317489624, -0.09309764951467514, 0.07403674721717834, -0.006544484291225672, 0.001498389639891684, 0.010686934925615788, 0.061817146837711334, -0.0353519432246685, 0.06711996346712112, 0.02952970378100872, 0.06616108119487762, 0.02090434543788433, -0.07097988575696945, -0.02998253144323826, -0.051063720136880875, -0.06442487984895706, 0.02813410386443138, 0.0949934795498848, -0.10573845356702805, -0.029002292081713676, -0.09022296220064163, -0.07837365567684174, -0.048960041254758835, -0.04093978926539421, 0.010821898467838764, -0.05399323254823685, 0.03911684453487396, 0.012911313213407993, 0.008439486846327782, -0.0273777786642313, 0.012293570674955845, -0.07886316627264023, 0.029701028019189835, -0.011170387268066406, 0.08200442045927048, 5.014454658464423e-33, -0.0746065303683281, -0.005839299876242876, -0.061715371906757355, 0.0994698628783226, 0.0009942897595465183, -0.017011238262057304, -0.05910426378250122, -0.07984784990549088, 0.04512552544474602, 0.006584708113223314, -0.027519801631569862, 0.12058280408382416, -0.014620215632021427, 0.03471875935792923, 0.05419950559735298, 0.09556145966053009, -0.03156653419137001, 0.003035701345652342, 0.022272896021604538, 0.022820360958576202, -0.03160306066274643, 0.028684983029961586, 0.028448661789298058, -0.03604983910918236, -0.01983809657394886, 0.08592069894075394, 0.0551135390996933, -0.05880070850253105, -0.09894412010908127, 0.015662234276533127, 0.014750231057405472, -0.018430158495903015, -0.007268696557730436, -0.11428937315940857, -0.07285936921834946, -0.01485536340624094, -0.012263902463018894, -0.05306542292237282, -0.016038861125707626, 0.01970379613339901, -0.03854801878333092, -0.045044418424367905, 0.02254902943968773, 0.02247358299791813, 0.009771180339157581, -0.012160654179751873, 0.041906993836164474, 0.03499886393547058, 0.07209865003824234, 0.0788072720170021, 0.006429992150515318, -0.005647967103868723, -0.008949893526732922, -0.0505104660987854, -0.012797094881534576, 0.07757338881492615, -0.06635492295026779, -0.011528446339070797, -0.0681629553437233, -0.013560574501752853, 0.029711369425058365, 0.002427022671326995, 0.031089134514331818, 0.045574869960546494, 0.008918838575482368, -0.08146794885396957, -0.008146712556481361, 0.04143953323364258, 0.10050679743289948, 0.014341369271278381, -0.09981979429721832, -0.05167938768863678, -0.0406070202589035, -0.015912454575300217, 0.019654816016554832, 0.007715786807239056, 0.045437198132276535, 0.04133047163486481, -0.04693764075636864, -0.015380104072391987, -0.03953108191490173, 0.017155133187770844, 0.023234305903315544, -0.012427392415702343, 0.019266929477453232, 0.07144801318645477, 0.036138683557510376, 0.019642988219857216, -0.027171781286597252, 0.06592389941215515, 0.007656427565962076, 0.06389384716749191, -0.05604107305407524, 0.02286776900291443, 0.0301473680883646, -9.658295784581749e-33, 0.018672550097107887, -0.04747314378619194, -0.004885099828243256, 0.049063608050346375, 0.06191262975335121, 0.011215523816645145, -0.04551948979496956, 0.032999541610479355, -0.0850030705332756, -0.13547831773757935, -0.05284522846341133, -0.058628812432289124, 0.025904428213834763, -0.012791771441698074, 0.007774910889565945, 0.03131309151649475, -0.06681014597415924, 0.02326948195695877, -0.07704691588878632, -0.0006376609671860933, 0.03508606180548668, 0.04503859207034111, 0.0384889617562294, -0.03763454034924507, -0.017977718263864517, -0.08483587205410004, -0.01948554813861847, -0.0812506154179573, -0.036894891411066055, -0.004606556612998247, 0.019806401804089546, -0.020293688401579857, 0.0326409749686718, 0.09364541620016098, -0.024829525500535965, 0.0026976405642926693, 0.0322713665664196, 0.014406520873308182, -0.03992565721273422, 0.047444719821214676, 0.04817434772849083, 0.08285015821456909, -0.01235680840909481, -0.06826378405094147, -0.07317712157964706, -0.02302229404449463, -0.10527903586626053, -0.04578567296266556, -0.010450364090502262, -0.02055947855114937, 0.08023381978273392, -0.02353580854833126, -0.021607447415590286, -0.06178443506360054, 0.043050553649663925, -0.024075254797935486, 0.01626058854162693, -0.14374595880508423, -0.13449081778526306, 0.11232970654964447, -0.0043680137023329735, 0.06489450484514236, -0.10397246479988098, -0.03953515365719795, 0.005255419760942459, -0.012211613357067108, -0.06225176900625229, 0.009231326170265675, -0.15285344421863556, 0.05145343020558357, 0.01765257492661476, -0.07077747583389282, -0.03321360796689987, -0.021012956276535988, 0.0249185711145401, -0.039091601967811584, 0.010403701104223728, -0.030537279322743416, -0.020357415080070496, -0.018804900348186493, -0.0870973989367485, -0.05615674704313278, 0.008066460490226746, 0.05355946719646454, -0.05364273861050606, 0.06334877014160156, -0.1444922834634781, 0.001018665381707251, -0.03167014941573143, 0.012675649486482143, 0.001436512335203588, 0.04444544389843941, -0.06720094382762909, 0.015987949445843697, -0.05760049819946289, -5.785517132039786e-08, 0.01802515797317028, -0.04250727966427803, 0.09232528507709503, 0.006497283466160297, -0.0409943088889122, -0.026516517624258995, -0.049842469394207, 0.06884705275297165, -0.05620406195521355, 0.040377870202064514, 0.013556445948779583, -0.04890815168619156, -0.05857331305742264, 0.03550199046730995, 0.024942029267549515, -0.06809628754854202, 0.06279170513153076, 0.06942978501319885, -0.06378311663866043, -0.084134541451931, 0.045508354902267456, -0.009212147444486618, -0.016891656443476677, -0.001976927975192666, -0.0011794468155130744, 0.011163775809109211, -0.035085104405879974, 0.043218281120061874, -0.03942662477493286, 0.017610356211662292, 0.0055322772823274136, 0.06814628094434738, -0.012843265198171139, -0.10192044824361801, -0.019766248762607574, -0.03618679568171501, 0.06031327322125435, -0.02715594321489334, -0.03757632523775101, -0.016042478382587433, 0.06687398999929428, -0.04197317361831665, -0.014111015014350414, 0.026380246505141258, 0.03219803422689438, -0.03189915046095848, 0.01714557409286499, 0.07402074337005615, -0.020939970389008522, 0.0047235130332410336, 0.0022533293813467026, -0.024440456181764603, 0.08352353423833847, 0.01692061498761177, -0.01420787163078785, 0.007582047488540411, 0.09030278772115707, 0.01942775957286358, 0.007372155319899321, 0.033794768154621124, 0.15556102991104126, 0.024665093049407005, -0.006704091560095549, -0.0032701632007956505]\n",
      "[-0.053082164376974106, 0.04495732858777046, -0.09730202704668045, -0.08402810990810394, -0.13725005090236664, -0.05199187994003296, 0.03580927848815918, 0.1617932766675949, 0.019118107855319977, 0.06597992777824402, 0.054749492555856705, 0.0030156502034515142, 0.02397429198026657, -0.014216998592019081, 0.03339269384741783, 0.02978293038904667, 0.005102130118757486, 0.059125375002622604, 0.027419280260801315, 0.06854570657014847, 0.09400483965873718, -0.03753291070461273, -0.058355335146188736, 0.01866201125085354, -0.08318816125392914, 0.06709686666727066, -0.014445272274315357, 0.04741336777806282, 0.027266275137662888, -0.07383900135755539, -0.032833997160196304, 0.022551607340574265, 0.15883617103099823, 0.013966929167509079, -0.024609876796603203, -0.0618729367852211, 0.01935151033103466, -0.029650390148162842, -0.06384754180908203, 0.03530620411038399, -0.05078224837779999, 0.0062913778237998486, -0.06564309448003769, -0.07430555671453476, 0.04364704340696335, -0.04685082659125328, 0.005688484292477369, 0.06724273413419724, 0.02606247365474701, 0.016451828181743622, -0.07179915904998779, -0.045443546026945114, -0.0028537577018141747, 0.02655220404267311, -0.01841605454683304, -0.01782393455505371, -0.0456509068608284, -0.03103913739323616, 0.012546265497803688, 0.00797923281788826, -0.03856991231441498, 0.018267333507537842, -0.031127776950597763, 0.029658367857336998, -0.027613842859864235, 0.017810435965657234, 0.04988247528672218, -0.0044022114016115665, -0.010559145361185074, 0.019387302920222282, -0.02266317792236805, -0.0983463004231453, -0.05986446887254715, 0.04544082656502724, -0.04828302934765816, 0.09690931439399719, 0.0242246612906456, -0.029357392340898514, 0.009273361414670944, -0.1241401731967926, -0.040452972054481506, 0.03414419665932655, -0.04804469272494316, -0.00046819160343147814, 0.009254034608602524, 0.05219697579741478, 0.029070725664496422, 0.0206760261207819, 0.05495382472872734, -8.387271373067051e-05, 0.0331963412463665, -0.02810329757630825, -0.047266215085983276, -0.08851151913404465, 0.04594315215945244, -1.1078290299337823e-05, 0.03901704028248787, -0.0478251688182354, 0.017683187499642372, -0.012160620652139187, 0.09674453735351562, 0.014942744746804237, 0.04785170406103134, -0.016735386103391647, -0.023104023188352585, -0.001725384732708335, -0.013868547976016998, -0.05209270492196083, 0.03774682804942131, 0.08768483996391296, -0.12495646625757217, -0.03564593195915222, -0.08560596406459808, -0.06357195973396301, -0.09041561931371689, -0.020123623311519623, -0.009979482740163803, -0.0451948381960392, 0.0224045030772686, -0.00577358016744256, 0.052345164120197296, 0.0011513330973684788, -0.03883436694741249, -0.06232859566807747, 0.063031867146492, -0.05018860846757889, 0.03091813623905182, 8.245776222227594e-33, -0.07982385903596878, -0.030177447944879532, 0.04515821859240532, -0.013529138639569283, -0.034148577600717545, -0.009779483079910278, -0.04752239212393761, 0.031067289412021637, 0.033436618745326996, 0.055067289620637894, -0.09480445086956024, 0.0772080346941948, -0.0024962329771369696, 0.0701427236199379, 0.13166619837284088, 0.03178703039884567, 0.02185056544840336, -0.03305412083864212, 0.040149617940187454, 0.034639108926057816, -0.04358280077576637, 0.047353457659482956, -0.007746229413896799, -0.047251492738723755, -0.012522265315055847, 0.10138921439647675, -0.03137034922838211, -0.045160435140132904, -0.06943725049495697, 0.03721720352768898, -0.01892980746924877, -0.06140613555908203, -0.033549755811691284, -0.014162246137857437, -0.06333027780056, -0.04010673239827156, -0.029592962935566902, -0.03195170685648918, -0.001150890369899571, -0.01934935338795185, 0.007529610302299261, -0.03241279348731041, 0.0033754671458154917, 0.0534236915409565, 0.06575957685709, -0.06130395829677582, 0.025720950216054916, -0.011053049936890602, 0.10596076399087906, 0.0329851433634758, -0.014374110847711563, -0.03663496673107147, -0.014137683436274529, -0.007144806906580925, 0.009606079198420048, 0.07667175680398941, -0.12191227078437805, 0.027481118217110634, -0.007562474813312292, 0.013445905409753323, -0.047910336405038834, -0.026612093672156334, 0.004779667593538761, 0.020998086780309677, -0.04653186723589897, -0.05118856951594353, -0.04644105210900307, -0.02940192073583603, 0.12248600274324417, 0.049170225858688354, -0.036459069699048996, -0.015834715217351913, -0.0483354851603508, 0.029957439750432968, -0.03227675333619118, -0.0008265097858384252, 0.052226483821868896, 0.04107284173369408, -0.022970350459218025, 0.030460231006145477, 0.03612879663705826, 0.0007470895070582628, 0.017070451751351357, 0.01028435304760933, -0.002098186407238245, 0.0701097697019577, 0.05462851747870445, 0.043664880096912384, -0.07408186048269272, 0.0858910009264946, -0.0061775511130690575, 0.07299254834651947, -0.03401147946715355, -0.004113967530429363, 0.08129345625638962, -1.1001472200496928e-32, 0.0511791817843914, -0.04445171728730202, 0.0009445313480682671, -0.024781376123428345, -0.041386473923921585, -0.020180607214570045, 0.013424589298665524, -0.08336755633354187, -0.05889470875263214, -0.11901051551103592, -0.0799643024802208, -0.027980001643300056, 0.07010920345783234, -0.07015103846788406, -0.0007132958271540701, 0.05884257331490517, -0.0854443684220314, 0.008394954726099968, -0.04955749958753586, -0.010264649987220764, -0.021773384883999825, 0.12772798538208008, 0.07925418764352798, -0.006887385156005621, 0.05335645377635956, -0.11042313277721405, -0.037037961184978485, -0.023597965016961098, -0.03391548618674278, 0.04715728387236595, -0.011897452175617218, -0.002274365397170186, 0.08691110461950302, 0.06996352225542068, 9.457073610974476e-05, -0.05285082384943962, 0.01731293834745884, 0.03261040896177292, 0.017519734799861908, 0.03260832279920578, 0.03080589883029461, 0.07353086769580841, 0.03696752339601517, -0.05307820439338684, -0.0003297399962320924, 0.02942449226975441, -0.08610832691192627, -0.06412331759929657, -0.017571765929460526, -0.050499193370342255, 0.03713729977607727, 0.021345218643546104, -0.060439661145210266, -0.03537007048726082, 0.09911159425973892, -0.025898044928908348, -0.004090993665158749, -0.1291831135749817, -0.07499179989099503, 0.04851280152797699, -0.005240332800894976, 0.01731795258820057, 0.017646104097366333, -0.10609754174947739, 0.08458060771226883, 0.026408977806568146, -0.014710433781147003, 0.0016370436642318964, -0.08095330744981766, -0.024106021970510483, 0.06282950192689896, -0.0042403023689985275, -0.0020496740471571684, -0.016769947484135628, 0.0073500871658325195, -0.00175307912286371, -0.03037896938621998, -0.029196884483098984, -0.04381760209798813, -0.03657880797982216, -0.08883154392242432, -0.031555432826280594, -0.0026207484770566225, 0.027381110936403275, -0.14644670486450195, 0.03882744535803795, -0.05258772149682045, -0.03743217885494232, -0.04525378718972206, 0.043130453675985336, -0.02213389240205288, 0.02719406969845295, 0.03382710739970207, 0.04774989187717438, -0.03301167115569115, -5.654393930853985e-08, 0.017730657011270523, -0.09491521865129471, 0.11184225976467133, 0.01441736239939928, 0.0109846331179142, 0.009390261024236679, -0.06985104084014893, -0.008464268408715725, 0.03777448460459709, 0.027891021221876144, 0.03330487757921219, -0.020749274641275406, -0.03337486833333969, 0.025218160822987556, -0.0016380720771849155, 0.02503206953406334, 0.059736479073762894, 0.055018942803144455, -0.05492385849356651, -0.08438268303871155, 0.02810121700167656, 0.025432882830500603, -0.08997306227684021, -0.005047909449785948, 0.09455244243144989, -0.034942224621772766, -0.03944982960820198, 0.01279651653021574, 0.01832890696823597, 0.015582126565277576, 0.03735968843102455, -0.021622102707624435, 0.05529465898871422, -0.01697543077170849, -0.021905334666371346, -0.0540035106241703, 0.09496291726827621, 0.017270483076572418, -0.06232016906142235, -0.016524380072951317, 0.1044149249792099, -0.03747230023145676, -0.03557624667882919, -0.05431967228651047, 0.015762003138661385, 0.019768666476011276, 0.00888701993972063, 0.03912891075015068, -0.036116912961006165, -0.018163811415433884, -0.00867836456745863, 0.020998936146497726, 0.06565985083580017, 0.01468086987733841, 0.007914037443697453, -0.009098236449062824, 0.04179246723651886, -0.06306443363428116, 0.006071148440241814, 0.015403221361339092, 0.08906295895576477, 0.0699639618396759, 0.030157092958688736, 0.022258810698986053]\n",
      "[-0.0027002592105418444, -0.012395912781357765, -0.07805568724870682, -0.06590276956558228, -0.07276744395494461, -0.021110985428094864, -0.006493680644780397, 0.1044769436120987, 0.014550606720149517, 0.08242213726043701, 0.03753633052110672, -0.00560718635097146, 0.01217618677765131, -0.0031270289327949286, 0.04171859100461006, -0.02539229579269886, 0.034998320043087006, 0.029931601136922836, -0.04413311555981636, 0.03132170811295509, 0.178802028298378, 0.00807878840714693, -0.05401381477713585, -0.008584713563323021, -0.1045110747218132, 0.01885952241718769, -0.016804395243525505, 0.019575368613004684, -0.03012368641793728, -0.07060535252094269, -0.04439276456832886, 0.039302702993154526, 0.1052197739481926, 0.07133705914020538, -0.05609756335616112, -0.018527301028370857, 0.10422828048467636, -0.06377356499433517, -0.041179683059453964, 0.05630563572049141, -0.10349562019109726, -0.011555567383766174, -0.03073221817612648, -0.06413466483354568, 0.09374308586120605, -0.05416293069720268, 0.007734332233667374, 0.02131517231464386, -0.006805353332310915, -0.024493683129549026, -0.07487596571445465, -0.05488035827875137, 0.004137688782066107, 0.05207567662000656, 0.012385080568492413, 0.0023756022565066814, -0.049626316875219345, 0.005857941694557667, 0.06735215336084366, 0.012639980763196945, 0.004234672524034977, 0.028797386214137077, -0.07497211545705795, 0.058093443512916565, -0.06700032949447632, 0.041592784225940704, -0.009318404830992222, -0.00415924284607172, -0.02300373837351799, 0.009098546579480171, 0.02704881876707077, -0.06350619345903397, 0.005070541054010391, -0.008502954617142677, 0.0006335508078336716, 0.03941061347723007, 0.020071322098374367, 0.046849995851516724, 0.07840229570865631, -0.13954710960388184, -0.016253279522061348, 0.04286760091781616, -0.020873570814728737, -0.015203503891825676, -0.007935992442071438, 0.021715248003602028, 0.01943734660744667, -0.02085767313838005, 0.031238015741109848, 0.026426510885357857, -0.014845969155430794, -0.08327271789312363, -0.04758559912443161, -0.053310591727495193, 0.045982904732227325, -0.017738165333867073, 0.010872912593185902, -0.066592738032341, 0.02812361717224121, -0.023811642080545425, 0.026129821315407753, -0.01329476572573185, 0.05082768574357033, 0.034325867891311646, -0.04773201048374176, 4.812074621440843e-05, -0.03718211129307747, -0.009021622128784657, 0.045692987740039825, 0.08106177300214767, -0.08024316281080246, -0.038168516010046005, -0.09650861471891403, -0.047304827719926834, -0.06371268630027771, -0.041837550699710846, -0.026141012087464333, -0.08489008992910385, 0.045520976185798645, -0.0018274259055033326, 0.00813392736017704, -0.0427679643034935, 0.059434473514556885, -0.056485261768102646, 0.053078096359968185, 0.02842576615512371, 0.05922514945268631, 8.991949179402873e-33, -0.08494014292955399, 0.01988093927502632, -0.08397851139307022, -0.017133628949522972, 0.024877475574612617, -0.0165338646620512, -0.05259181186556816, 0.019571999087929726, 0.04447329789400101, 0.0027445510495454073, -0.12224750220775604, 0.15024979412555695, -0.06166232377290726, 0.04762810841202736, 0.1648435741662979, -0.0014752555871382356, 0.009465616196393967, 0.004524702671915293, -0.003726131049916148, 0.019500307738780975, 0.00910393800586462, -0.00668907118961215, 0.03717201203107834, -0.08710071444511414, 0.045693375170230865, 0.11493951827287674, 0.01694176346063614, -0.04302448406815529, -0.04928847402334213, 0.07224233448505402, 0.029160600155591965, -0.0042909118346869946, -0.0074661304242908955, 0.004806176293641329, -0.0800851359963417, -0.03358374908566475, -0.002723244484513998, -0.0024883795995265245, 0.006013419479131699, -0.03277150169014931, -0.040986090898513794, -0.038401275873184204, -0.019523555412888527, 0.0033150846138596535, -0.00704211974516511, -0.03934874385595322, 0.05165417119860649, -0.008264769800007343, 0.06426540017127991, 0.04356831684708595, -0.017739277333021164, -0.02468421310186386, -0.02322353608906269, -0.03425673022866249, 0.047025736421346664, 0.04871583357453346, -0.05590975284576416, 0.026845283806324005, -0.030975954607129097, 0.012323782779276371, -0.07468587905168533, -0.05553638935089111, 0.09480477124452591, 0.005959328263998032, 0.04044070094823837, -0.08470679074525833, 0.0032386428210884333, 0.007807908579707146, 0.09397811442613602, 0.016737349331378937, -0.047908250242471695, -0.05055108293890953, -0.03855041414499283, 0.028667626902461052, -0.018903478980064392, -0.023286448791623116, 0.009034963324666023, -0.00044620578410103917, -0.10580576211214066, 0.04379519447684288, -0.07277438789606094, 0.0464748851954937, 0.05622269585728645, 0.011891517788171768, 0.027622822672128677, 0.024490904062986374, 0.020109426230192184, 0.03177374228835106, 0.00558963418006897, 0.04152551293373108, -0.06070554628968239, 0.06343989074230194, -0.04190045967698097, 0.006056909915059805, 0.07891559600830078, -1.2218317503845267e-32, 0.01077725924551487, -0.00510284723713994, -0.057806793600320816, 0.0032588602043688297, -0.05650842562317848, -0.03160814195871353, 0.057649582624435425, -0.005175984930247068, -0.07336056232452393, -0.10751974582672119, -0.09951382130384445, -0.02399151213467121, 0.08795583248138428, -0.007936454378068447, -0.042920637875795364, -0.00963066890835762, -0.09800445288419724, -0.09588208794593811, 0.018095770850777626, 0.010139943100512028, -0.018742388114333153, 0.03001571074128151, -0.045085955411195755, -0.042998600751161575, 0.006854826118797064, -0.09036201238632202, -0.14515656232833862, 0.009559097699820995, -0.06396829336881638, -0.03868841379880905, 0.014929167926311493, -0.013506376184523106, 0.07602804899215698, 0.07940084487199783, -0.0185825377702713, 0.025303684175014496, 0.04628196358680725, 0.021247083321213722, -0.02059188485145569, 0.07939895242452621, 0.09648579359054565, 0.06364544481039047, -0.030094414949417114, -0.07351520657539368, 0.030346691608428955, 0.008795415982604027, -0.0077730817720294, -0.07150591164827347, -0.01074625551700592, -0.07939834147691727, 0.0789867490530014, -0.0277741476893425, -0.017185751348733902, -0.03597598522901535, 0.0029798471368849277, -0.014390400610864162, 0.017284739762544632, -0.08903312683105469, -0.1067255511879921, 0.05107969790697098, 0.049388885498046875, -0.041238244622945786, 0.009803968481719494, -0.01328910980373621, 0.05583252012729645, 0.0017871051095426083, -0.02980056218802929, -0.05234871432185173, -0.04816676303744316, -0.020880525931715965, 0.0240552369505167, -0.030620628967881203, -0.031070787459611893, 0.03410317003726959, 0.010373592376708984, -0.059888456016778946, -0.07342267781496048, 0.0051687066443264484, 0.0026779950130730867, 0.018309278413653374, -0.061802200973033905, 0.0705476850271225, -0.011272291652858257, 0.06400120258331299, -0.07981209456920624, 0.02924511954188347, -0.005234361160546541, 0.03430598974227905, -0.03399746119976044, 0.016448481008410454, -0.01884368807077408, 0.05231034755706787, -0.02667572908103466, 0.08910121023654938, -0.08929319679737091, -5.999749674856503e-08, -0.025612834841012955, 0.01373019628226757, 0.02771715074777603, 0.016391752287745476, -0.033762212842702866, -0.04919062554836273, -0.0455995574593544, -0.017050577327609062, 0.016790779307484627, -0.03984479978680611, 1.0483337064215448e-05, -0.02416582964360714, -0.08937089145183563, 0.09673161059617996, 0.04062971472740173, -0.012197216041386127, 0.06297178566455841, 0.08091864734888077, -0.03909611329436302, -0.057870615273714066, 0.10169900208711624, 0.023294560611248016, -0.043550875037908554, 0.052118271589279175, 0.0977521762251854, -0.058656927198171616, -0.06998854130506516, -0.014794024638831615, 0.024793894961476326, 0.09019981324672699, -0.023658905178308487, 0.020537320524454117, -0.0242301058024168, 0.015908926725387573, -0.0231536403298378, -0.0007111072191037238, -0.016689756885170937, 0.027627408504486084, 0.04027978330850601, -0.029046712443232536, 0.15264011919498444, -0.001854883972555399, -0.0728488489985466, -0.03211994841694832, 0.07938715815544128, 0.02631591260433197, -0.0007379531743936241, -0.06299705058336258, -0.03274605795741081, 0.03709329292178154, -0.04718989506363869, 0.023176582530140877, 0.03398337960243225, 0.048432569950819016, 0.0038831422571092844, -0.018774298951029778, 0.028753958642482758, -0.08496244251728058, 0.010995968244969845, 0.010469090193510056, 0.005320623517036438, 0.05367685854434967, -0.013756293803453445, 0.012484773993492126]\n",
      "[-0.01310870610177517, -0.016274504363536835, -0.1182466670870781, -0.07600072771310806, -0.04293182119727135, -0.02475687861442566, 0.025351915508508682, 0.10412924736738205, -0.022672906517982483, 0.040979836136102676, 0.039308007806539536, -0.00013014434080105275, 0.020634684711694717, 0.03874468803405762, 0.03420727327466011, -0.023486919701099396, 0.023964200168848038, 0.000915221986360848, -0.015386639162898064, 0.022750593721866608, 0.16958369314670563, -0.032638974487781525, -0.02640778012573719, -0.02344397082924843, -0.08188783377408981, 0.01782781258225441, -0.016719752922654152, 0.011603767983615398, 0.010664364323019981, -0.09164641052484512, -0.030020182952284813, 0.030575178563594818, 0.13764917850494385, 0.03367924317717552, -0.08113967627286911, -0.05106493458151817, 0.04266073554754257, -0.023385530337691307, -0.0032205877359956503, 0.01891467534005642, -0.08434592187404633, -0.03547201678156853, -0.06814563274383545, -0.06173102185130119, 0.09666529297828674, -0.03119148313999176, -0.04686349630355835, 0.042059000581502914, -0.026006141677498817, 0.012003381736576557, -0.13174226880073547, -0.04090818017721176, -0.021210910752415657, -0.005885209422558546, -0.006301159039139748, 0.022205160930752754, -0.03648793697357178, 0.021836422383785248, 0.025703981518745422, 0.017375225201249123, 0.01532538328319788, 0.011568763293325901, -0.00567467650398612, 0.05322704836726189, 0.007057663053274155, 0.05140909552574158, -0.006059733685106039, -0.01541773322969675, 0.04843030497431755, -0.05338689684867859, -0.06416578590869904, -0.024328688159585, -0.008981797844171524, 0.036006905138492584, -0.0016108134295791388, 0.005435139872133732, -0.006266716402024031, 0.08099787682294846, 0.007485621143132448, -0.0853235274553299, -0.03754844143986702, 0.07803483307361603, -0.034632887691259384, 0.009824400767683983, 0.002581686247140169, 0.011115752160549164, -0.02975628152489662, 0.06409066915512085, 0.009221786633133888, 0.010190906934440136, 0.00680119264870882, -0.07548782229423523, -0.030730869621038437, -0.03460713103413582, -0.005540716927498579, -0.011210733093321323, 0.04528816416859627, -0.08713102340698242, 0.04526515305042267, -0.03899483382701874, 0.028163671493530273, -0.011969502083957195, 0.03318829834461212, 0.0040208641439676285, -0.06071867421269417, -0.06636469066143036, 0.024260422214865685, 0.012398962862789631, 0.07079219073057175, 0.07447995990514755, -0.11123860627412796, -0.04589134082198143, -0.0927310660481453, -0.05917127802968025, -0.03898812085390091, 0.014814773574471474, -0.03901858255267143, -0.065058633685112, 0.07167244702577591, 0.032041002064943314, 0.00019568692368920892, -0.009541652165353298, 0.02157013863325119, -0.04105834662914276, 0.05146506056189537, -0.04232502728700638, 0.03143317252397537, 7.040216399331119e-33, -0.06719207763671875, 0.0202146265655756, -0.05687500908970833, 0.026950133964419365, 0.053352367132902145, -0.019182808697223663, -0.04464849457144737, -0.007905730046331882, 0.030822863802313805, -0.004717192612588406, -0.04183369502425194, 0.1616695523262024, -0.058248862624168396, 0.050970565527677536, 0.09220251441001892, 0.0017985468730330467, 0.026191575452685356, 0.09164810925722122, -0.0005894273635931313, -0.008213084191083908, 0.018977312371134758, -0.021993054077029228, 0.0516030490398407, -0.04138495773077011, 0.0818714126944542, 0.15064209699630737, -0.02222410961985588, 0.044522836804389954, -0.029521644115447998, 0.043449558317661285, 0.04718679189682007, -0.06539123505353928, -0.015286709181964397, -0.05611681193113327, -0.044729992747306824, -0.09224040061235428, -0.008528107777237892, -0.012350152246654034, -0.0014405528781935573, -0.03657367452979088, -0.03868664801120758, -0.015146016143262386, 0.015474151819944382, 0.02908509224653244, -0.008204404264688492, -0.028284866362810135, -0.002532713348045945, 0.05017467215657234, 0.07691881060600281, 0.018113000318408012, -0.010331938043236732, -0.026774996891617775, -0.031007619574666023, -0.018308350816369057, 0.019676437601447105, 0.06537942588329315, -0.0730518326163292, 0.03353411331772804, -0.028694437816739082, -0.0046381098218262196, -0.03904396668076515, 0.01555007416754961, 0.021872110664844513, 0.053455743938684464, 0.0019521103240549564, -0.07769419252872467, 0.036683350801467896, -0.02549852430820465, 0.12766964733600616, 0.05867570638656616, -0.08643334358930588, -0.01869545318186283, -0.08369873464107513, 0.04464823380112648, -0.0256050918251276, -0.033088184893131256, 0.035176996141672134, -0.042603395879268646, -0.09122519195079803, 0.033193934708833694, -0.018914779648184776, 0.006215812638401985, 0.05813772231340408, -0.04881574586033821, 0.0007099599461071193, 0.02020259015262127, 0.03944937512278557, 0.059282153844833374, -0.01813809759914875, -0.006306581664830446, 0.028744453564286232, 0.09138855338096619, -0.05109739676117897, 0.026279931887984276, 0.12256259471178055, -1.0012787411907319e-32, 0.045717764645814896, -0.04348428547382355, -0.05511201173067093, -0.05011732131242752, -0.0158334169536829, -0.009744325652718544, 0.04898687079548836, -0.006643147673457861, -0.03900253400206566, -0.11459697782993317, -0.04302842542529106, -0.047627631574869156, 0.06375707685947418, 0.004364126827567816, -0.07206209003925323, 0.041474658995866776, -0.0843266099691391, -0.09370945394039154, 0.011750077828764915, 0.0144966384395957, -0.06101572886109352, 0.04253913834691048, -0.01340665016323328, -0.08771213889122009, -0.0033818327356129885, -0.04601369425654411, -0.08527494221925735, 0.01954759657382965, -0.021994641050696373, 0.02446823939681053, 0.015439142473042011, -0.03272548317909241, 0.010638565756380558, 0.06874749809503555, -0.007020146586000919, -0.0720897987484932, 0.026531239971518517, 0.012566634453833103, 0.012328164651989937, 0.05350467935204506, 0.12348989397287369, 0.08173960447311401, -0.050833262503147125, -0.09042336046695709, -0.029507296159863472, -0.0029588614124804735, -0.039515573531389236, -0.03557618707418442, 0.007569148670881987, -0.046050235629081726, 0.07964935898780823, -0.023696498945355415, -0.010394236072897911, -0.05680758133530617, -0.0053382390178740025, 0.03070696070790291, 0.052331820130348206, -0.06811117380857468, -0.13178251683712006, 0.052628614008426666, -0.03557734563946724, -0.05442727729678154, 0.023534150794148445, -0.059401735663414, 0.03596743941307068, -0.039599813520908356, -0.019300898537039757, 0.003133043646812439, -0.03834141045808792, -0.0376771055161953, 0.09201700240373611, -0.03802955150604248, -0.02400987409055233, 0.0039588939398527145, 0.02864578180015087, -0.06751229614019394, -0.052161816507577896, 0.008937847800552845, -0.02226845920085907, -0.028602737933397293, -0.07128441333770752, 0.08635072410106659, 0.0032194042578339577, 0.039075277745723724, -0.06305261701345444, 0.0034807745832949877, -0.03325727581977844, 0.0417785570025444, -0.002835758263245225, 0.008296596817672253, -0.03177671507000923, 0.05990538373589516, -0.016871890053153038, 0.11388859897851944, -0.09960119426250458, -5.655966361928222e-08, -0.014623965136706829, -0.028551215305924416, 0.016423610970377922, 0.050470516085624695, -0.0035111892502754927, -0.020864298567175865, -0.0426972322165966, -0.006123751401901245, 0.019020024687051773, -0.061200737953186035, -0.046185292303562164, -0.051070332527160645, -0.06263066083192825, 0.0825449526309967, 0.044696658849716187, -0.009117101319134235, 0.08769194781780243, 0.0431237630546093, -0.004829058423638344, -0.06470178067684174, 0.09923651069402695, -0.054368238896131516, -0.07052436470985413, 0.03598512336611748, 0.1129826232790947, -0.019421089440584183, -0.07998082041740417, -0.01783890090882778, -0.015184560790657997, 0.06391642242670059, 0.0001396666484652087, 0.02924325317144394, 0.026546113193035126, 0.03417603299021721, -0.013561107218265533, -0.026996415108442307, 0.045371897518634796, -0.014385556802153587, -0.08580775558948517, -0.07131317257881165, 0.15164503455162048, -0.005122493486851454, -0.07503063231706619, -0.05679769814014435, 0.04996354132890701, -0.006411431822925806, 0.020660243928432465, -0.07781565189361572, 0.007327172439545393, 0.026627933606505394, -0.0420634001493454, 0.005072602070868015, 0.06585089862346649, 0.010427111759781837, -0.001145499642007053, 0.01243901439011097, 0.05874994024634361, -0.0576263926923275, 0.023712866008281708, 0.01344531774520874, 0.049355074763298035, 0.060398347675800323, 0.05825014412403107, -0.01757299341261387]\n",
      "[-0.024850256741046906, 0.07372505962848663, -0.0457046814262867, -0.05722024291753769, -0.024025211110711098, -0.036266591399908066, -0.00329748191870749, 0.07155805081129074, 0.029462799429893494, 0.04372101649641991, 0.06386823207139969, -0.006026309449225664, -0.020189739763736725, 0.0044168634340167046, 0.00481877475976944, -0.006926749367266893, 0.010125407949090004, 0.02185015380382538, -0.03053148277103901, 0.04691210016608238, 0.14966200292110443, -0.033578380942344666, -0.0758746862411499, 0.009088310413062572, -0.043776560574769974, 0.042449407279491425, -0.04879366606473923, 0.004467756487429142, -0.04956177994608879, -0.05648967623710632, 0.009152720682322979, 0.06458703428506851, 0.07321939617395401, 0.02435259521007538, -0.006612484809011221, 0.025859424844384193, 0.10032575577497482, -0.02575339563190937, -0.01903606578707695, 0.08989100158214569, -0.10755323618650436, -0.060825396329164505, -0.10010819882154465, -0.08768577128648758, 0.012406564317643642, -0.08126545697450638, 0.009224087931215763, 0.04668983817100525, 0.0013721119612455368, 0.044017210602760315, -0.06166032701730728, -0.022821549326181412, -0.031073743477463722, 0.045506205409765244, -0.020926399156451225, -0.02749241329729557, 0.010249193757772446, 0.0010189278982579708, -0.006857754196971655, -0.003445155918598175, -0.009424889460206032, 0.023579252883791924, -0.08685809373855591, 0.031098559498786926, 0.01844058930873871, 0.020709309726953506, -0.02464071288704872, -0.031012574210762978, -0.009179157204926014, 0.01830294169485569, -0.009884646162390709, -0.05327960103750229, 0.016861140727996826, 0.04743296653032303, -0.045640572905540466, 0.05861101672053337, -0.009415660984814167, -0.0005434790509752929, 0.042543720453977585, -0.14623580873012543, 0.07777975499629974, 0.03960944339632988, 0.004927595611661673, -0.08312738686800003, -0.016777122393250465, 0.01358525175601244, -0.046378858387470245, 0.030051490291953087, 0.036166962236166, 0.011551189236342907, 0.005617127753794193, 0.0033408550079911947, -0.04739388823509216, -0.015362468548119068, 0.05690561980009079, -0.01039829384535551, -0.028626980260014534, -0.05824579298496246, 0.10852627456188202, -0.0036273363512009382, 0.04141322150826454, 0.02525382488965988, 0.027644041925668716, -0.044914212077856064, -0.049330905079841614, 0.007164685521274805, -0.022751647979021072, -0.0034844859037548304, 0.033396728336811066, 0.11510019749403, -0.08357448875904083, -0.05981837585568428, -0.10226299613714218, -0.0404139906167984, -0.014423793181777, 0.02009464241564274, -0.039248544722795486, -0.03494064882397652, -0.05615856871008873, -0.017295263707637787, 0.00952095165848732, -0.05052797868847847, 0.08773498982191086, -0.05766856670379639, 0.07629092782735825, -0.07700982689857483, 0.043034426867961884, 9.612699093397322e-33, -0.01612119935452938, 0.018873589113354683, -0.02529500424861908, 0.021547554060816765, 0.03205893933773041, 0.02842988632619381, -0.05334514379501343, -0.000975456670857966, 0.026533886790275574, 0.009346320293843746, -0.03243889659643173, 0.13205330073833466, -0.04658374935388565, 0.03549014776945114, 0.12607266008853912, -0.005981982685625553, 0.008338957093656063, 0.044980164617300034, -0.008480438962578773, -0.023106059059500694, -0.016034351661801338, -0.0380280539393425, 0.023085350170731544, -0.07009635865688324, -0.02138594537973404, 0.08069959282875061, -0.020306885242462158, -0.005573083180934191, -0.027681821957230568, 0.05041519179940224, 0.03722419962286949, -0.023799745365977287, -0.004701348952949047, -0.05672246590256691, -0.05031714588403702, -0.010642743669450283, 0.011791110038757324, -0.025311239063739777, -0.036035243421792984, -0.03462228178977966, -0.03274594247341156, 0.014878105372190475, 0.06059974431991577, 0.05183589458465576, 0.04841681569814682, -0.008243344724178314, 0.07043013721704483, 0.015564734116196632, 0.09433653950691223, 0.037087228149175644, -0.029984978958964348, -0.04813084751367569, -0.04205293580889702, -0.0689505860209465, 0.0407731868326664, 0.060378871858119965, -0.061272695660591125, 0.011242623440921307, -0.017686080187559128, -0.05536400526762009, -0.006397194229066372, 0.05141062289476395, -0.027958253398537636, 0.002159064169973135, -0.026106607168912888, -0.09230691939592361, 0.02967032790184021, 0.0356157086789608, 0.10652007907629013, 0.04623065143823624, -0.06834111362695694, -0.025619814172387123, -0.06414586305618286, 0.06744986772537231, -0.033826474100351334, -0.012843737378716469, 0.039681326597929, -0.0003003616293426603, -0.09275340288877487, 0.067360520362854, -0.05424300581216812, -0.013298561796545982, 0.017366444692015648, -0.035981759428977966, 0.042974524199962616, 0.08279266208410263, 0.034029021859169006, 0.05349297076463699, -0.015522126108407974, 0.06353646516799927, 0.054328031837940216, 0.10646972060203552, -0.03165198862552643, -0.001724551315419376, 0.07428387552499771, -1.1672695637863778e-32, 0.016167446970939636, 0.010789516381919384, -0.10114898532629013, 0.0091370465233922, -0.001282859593629837, 0.0061488039791584015, 0.021817725151777267, 0.004849329125136137, -0.06759356707334518, -0.12464071065187454, -0.07128143310546875, -0.10548756271600723, 0.09897299855947495, -0.03538718819618225, -0.07150132954120636, -0.05036191642284393, -0.09337911009788513, -0.08351227641105652, -0.022068027406930923, 0.009366323240101337, 0.003839063225314021, 0.040965206921100616, -0.0007977921632118523, 0.0010000589536502957, 0.02277049608528614, -0.07009720057249069, -0.04613109678030014, -0.026527443900704384, -0.046912722289562225, 0.026716096326708794, 0.03357944265007973, -0.019243044778704643, 0.02017916366457939, 0.11221587657928467, -0.005210074596107006, -0.04390827566385269, 0.05797305330634117, -0.004832291975617409, 0.020928867161273956, 0.035948388278484344, 0.054135847836732864, 0.1107538715004921, -0.03202520310878754, -0.10252954065799713, -0.0821705311536789, 0.012485632672905922, -0.027520308271050453, -0.08438971638679504, 0.0001029947743518278, -0.07884229719638824, 0.12566065788269043, -0.026468241587281227, -0.06031802296638489, -0.06205351650714874, 0.04745945334434509, -0.016166169196367264, 0.025221144780516624, -0.08448762446641922, -0.1063416600227356, 0.053929027169942856, 0.01948019117116928, 0.01941593363881111, -0.031147252768278122, -0.038183897733688354, 0.08664335310459137, -0.0334717333316803, 0.003333684289827943, 0.0709461197257042, -0.044519998133182526, 0.027426840737462044, 0.09254337102174759, -0.07112409174442291, -0.07861890643835068, 0.002118957694619894, 0.03199261054396629, -0.08937296271324158, -0.02904362604022026, 0.005241289269179106, 0.0005034775822423398, 0.0120499636977911, -0.06319423019886017, 0.02025623619556427, -0.03285245597362518, 0.02587197721004486, -0.026760928332805634, 0.032127514481544495, -0.057583898305892944, 0.004934800323098898, -0.015346616506576538, 0.07438592612743378, -0.012680834159255028, 0.06360219419002533, 0.0034023195039480925, 0.03855506703257561, -0.04641476273536682, -5.803491021083573e-08, -0.04561987146735191, -0.025078807026147842, 0.09408516436815262, -0.016311872750520706, 0.0004693487426266074, -0.045743681490421295, 0.002280853921547532, -0.0088648721575737, 0.006446102634072304, -0.029193436726927757, 0.019597264006733894, -0.0436379611492157, -0.06726652383804321, 0.0416557751595974, 0.011653096415102482, -0.05438902974128723, 0.07081876695156097, 0.08105871081352234, -0.04026305675506592, -0.05109713226556778, 0.0610940046608448, -0.0008120820275507867, -0.10254970192909241, -0.011693831533193588, 0.0801459550857544, 0.0054787518456578255, -0.04453730955719948, -0.009978638961911201, -0.01987072080373764, 0.030843105167150497, -0.063499815762043, 0.0026165000163018703, 0.007028127554804087, -0.062138427048921585, -0.06805793195962906, -0.011379063129425049, 0.05035601928830147, 0.007116478402167559, -0.06536468118429184, -0.031543608754873276, 0.12359374761581421, 0.006613223347812891, -0.035456400364637375, -0.05856478586792946, 0.00868979748338461, -0.019052356481552124, 0.04653486981987953, -0.014034824445843697, -0.05701374262571335, 0.016621537506580353, -0.03876575455069542, -0.05633803829550743, 0.13098269701004028, 0.01646643877029419, -0.014615096151828766, -0.03591383993625641, 0.018079396337270737, -0.013946284539997578, 0.028289860114455223, 0.0107425507158041, 0.11967716366052628, 0.11644493788480759, 0.019793538376688957, 0.0003170126583427191]\n"
     ]
    }
   ],
   "source": [
    "print(\"Embeddings:\")\n",
    "for emb in embeddings:\n",
    "    print(emb)"
   ]
  },
  {
   "cell_type": "code",
   "execution_count": 37,
   "id": "ec677faf",
   "metadata": {},
   "outputs": [
    {
     "ename": "InternalError",
     "evalue": "Collection [my_collection] already exists",
     "output_type": "error",
     "traceback": [
      "\u001b[31m---------------------------------------------------------------------------\u001b[39m",
      "\u001b[31mInternalError\u001b[39m                             Traceback (most recent call last)",
      "\u001b[36mCell\u001b[39m\u001b[36m \u001b[39m\u001b[32mIn[37]\u001b[39m\u001b[32m, line 6\u001b[39m\n\u001b[32m      3\u001b[39m \u001b[38;5;28;01mimport\u001b[39;00m\u001b[38;5;250m \u001b[39m\u001b[34;01mchromadb\u001b[39;00m\n\u001b[32m      5\u001b[39m chroma_client = chromadb.Client()\n\u001b[32m----> \u001b[39m\u001b[32m6\u001b[39m collection = \u001b[43mchroma_client\u001b[49m\u001b[43m.\u001b[49m\u001b[43mcreate_collection\u001b[49m\u001b[43m(\u001b[49m\u001b[43mname\u001b[49m\u001b[43m=\u001b[49m\u001b[33;43m\"\u001b[39;49m\u001b[33;43mmy_collection\u001b[39;49m\u001b[33;43m\"\u001b[39;49m\u001b[43m)\u001b[49m\n",
      "\u001b[36mFile \u001b[39m\u001b[32m~/pdf_to_rag/venv/lib/python3.12/site-packages/chromadb/api/client.py:168\u001b[39m, in \u001b[36mClient.create_collection\u001b[39m\u001b[34m(self, name, configuration, metadata, embedding_function, data_loader, get_or_create)\u001b[39m\n\u001b[32m    165\u001b[39m \u001b[38;5;28;01mif\u001b[39;00m embedding_function \u001b[38;5;129;01mis\u001b[39;00m \u001b[38;5;129;01mnot\u001b[39;00m \u001b[38;5;28;01mNone\u001b[39;00m \u001b[38;5;129;01mand\u001b[39;00m configuration_ef \u001b[38;5;129;01mis\u001b[39;00m \u001b[38;5;28;01mNone\u001b[39;00m:\n\u001b[32m    166\u001b[39m     configuration[\u001b[33m\"\u001b[39m\u001b[33membedding_function\u001b[39m\u001b[33m\"\u001b[39m] = embedding_function\n\u001b[32m--> \u001b[39m\u001b[32m168\u001b[39m model = \u001b[38;5;28;43mself\u001b[39;49m\u001b[43m.\u001b[49m\u001b[43m_server\u001b[49m\u001b[43m.\u001b[49m\u001b[43mcreate_collection\u001b[49m\u001b[43m(\u001b[49m\n\u001b[32m    169\u001b[39m \u001b[43m    \u001b[49m\u001b[43mname\u001b[49m\u001b[43m=\u001b[49m\u001b[43mname\u001b[49m\u001b[43m,\u001b[49m\n\u001b[32m    170\u001b[39m \u001b[43m    \u001b[49m\u001b[43mmetadata\u001b[49m\u001b[43m=\u001b[49m\u001b[43mmetadata\u001b[49m\u001b[43m,\u001b[49m\n\u001b[32m    171\u001b[39m \u001b[43m    \u001b[49m\u001b[43mtenant\u001b[49m\u001b[43m=\u001b[49m\u001b[38;5;28;43mself\u001b[39;49m\u001b[43m.\u001b[49m\u001b[43mtenant\u001b[49m\u001b[43m,\u001b[49m\n\u001b[32m    172\u001b[39m \u001b[43m    \u001b[49m\u001b[43mdatabase\u001b[49m\u001b[43m=\u001b[49m\u001b[38;5;28;43mself\u001b[39;49m\u001b[43m.\u001b[49m\u001b[43mdatabase\u001b[49m\u001b[43m,\u001b[49m\n\u001b[32m    173\u001b[39m \u001b[43m    \u001b[49m\u001b[43mget_or_create\u001b[49m\u001b[43m=\u001b[49m\u001b[43mget_or_create\u001b[49m\u001b[43m,\u001b[49m\n\u001b[32m    174\u001b[39m \u001b[43m    \u001b[49m\u001b[43mconfiguration\u001b[49m\u001b[43m=\u001b[49m\u001b[43mconfiguration\u001b[49m\u001b[43m,\u001b[49m\n\u001b[32m    175\u001b[39m \u001b[43m\u001b[49m\u001b[43m)\u001b[49m\n\u001b[32m    176\u001b[39m \u001b[38;5;28;01mreturn\u001b[39;00m Collection(\n\u001b[32m    177\u001b[39m     client=\u001b[38;5;28mself\u001b[39m._server,\n\u001b[32m    178\u001b[39m     model=model,\n\u001b[32m    179\u001b[39m     embedding_function=embedding_function,\n\u001b[32m    180\u001b[39m     data_loader=data_loader,\n\u001b[32m    181\u001b[39m )\n",
      "\u001b[36mFile \u001b[39m\u001b[32m~/pdf_to_rag/venv/lib/python3.12/site-packages/chromadb/api/rust.py:227\u001b[39m, in \u001b[36mRustBindingsAPI.create_collection\u001b[39m\u001b[34m(self, name, configuration, metadata, get_or_create, tenant, database)\u001b[39m\n\u001b[32m    224\u001b[39m \u001b[38;5;28;01melse\u001b[39;00m:\n\u001b[32m    225\u001b[39m     configuration_json_str = \u001b[38;5;28;01mNone\u001b[39;00m\n\u001b[32m--> \u001b[39m\u001b[32m227\u001b[39m collection = \u001b[38;5;28;43mself\u001b[39;49m\u001b[43m.\u001b[49m\u001b[43mbindings\u001b[49m\u001b[43m.\u001b[49m\u001b[43mcreate_collection\u001b[49m\u001b[43m(\u001b[49m\n\u001b[32m    228\u001b[39m \u001b[43m    \u001b[49m\u001b[43mname\u001b[49m\u001b[43m,\u001b[49m\u001b[43m \u001b[49m\u001b[43mconfiguration_json_str\u001b[49m\u001b[43m,\u001b[49m\u001b[43m \u001b[49m\u001b[43mmetadata\u001b[49m\u001b[43m,\u001b[49m\u001b[43m \u001b[49m\u001b[43mget_or_create\u001b[49m\u001b[43m,\u001b[49m\u001b[43m \u001b[49m\u001b[43mtenant\u001b[49m\u001b[43m,\u001b[49m\u001b[43m \u001b[49m\u001b[43mdatabase\u001b[49m\n\u001b[32m    229\u001b[39m \u001b[43m\u001b[49m\u001b[43m)\u001b[49m\n\u001b[32m    230\u001b[39m collection_model = CollectionModel(\n\u001b[32m    231\u001b[39m     \u001b[38;5;28mid\u001b[39m=collection.id,\n\u001b[32m    232\u001b[39m     name=collection.name,\n\u001b[32m   (...)\u001b[39m\u001b[32m    237\u001b[39m     database=collection.database,\n\u001b[32m    238\u001b[39m )\n\u001b[32m    239\u001b[39m \u001b[38;5;28;01mreturn\u001b[39;00m collection_model\n",
      "\u001b[31mInternalError\u001b[39m: Collection [my_collection] already exists"
     ]
    }
   ],
   "source": [
    "# Storage embeddings\n",
    "\n",
    "import chromadb\n",
    "\n",
    "chroma_client = chromadb.Client()\n",
    "collection = chroma_client.create_collection(name=\"my_collection\")"
   ]
  },
  {
   "cell_type": "code",
   "execution_count": 41,
   "id": "4e905541",
   "metadata": {},
   "outputs": [],
   "source": [
    "def sanitize_metadata(metadata):\n",
    "    sanitized = {}\n",
    "    for k, v in metadata.items():\n",
    "        if isinstance(v, list):\n",
    "            sanitized[k] = \",\".join(map(str, v))\n",
    "        elif isinstance(v, frozenset):\n",
    "            sanitized[k] = \",\".join(map(str, v))\n",
    "        else:\n",
    "            sanitized[k] = v\n",
    "    return sanitized\n",
    "\n",
    "collection.add(\n",
    "    documents=[chunk.text for chunk in chunks_model],\n",
    "    embeddings=embeddings,\n",
    "    metadatas=[sanitize_metadata(chunk.metadata.model_dump()) for chunk in chunks_model],\n",
    "    ids=[str(chunk.metadata.orig_elements) for chunk in chunks_model]\n",
    ")"
   ]
  },
  {
   "cell_type": "code",
   "execution_count": 42,
   "id": "6ddefa90",
   "metadata": {},
   "outputs": [
    {
     "name": "stderr",
     "output_type": "stream",
     "text": [
      "/Users/ryan.oliveira/.cache/chroma/onnx_models/all-MiniLM-L6-v2/onnx.tar.gz: 100%|██████████| 79.3M/79.3M [00:12<00:00, 6.84MiB/s]\n",
      "\n"
     ]
    }
   ],
   "source": [
    "# Consultando a coleção para verificar se os embeddings foram corretamente armazenados\n",
    "result = collection.query(\n",
    "    query_texts=[\"O que é RAG?\"],\n",
    "    n_results=2\n",
    ")"
   ]
  },
  {
   "cell_type": "code",
   "execution_count": 51,
   "id": "8261df70",
   "metadata": {},
   "outputs": [
    {
     "name": "stdout",
     "output_type": "stream",
     "text": [
      "[['RAG (Retrieval Augmented Generation) Aplicado à Ciência de Dados\\n\\nOlá! Bem-vindo(a) à nossa newsletter semanal sobre Ciência de Dados!\\n\\nNesta edição, vamos explorar o conceito de RAG (Retrieval Augmented Generation) e como essa tecnologia pode transformar a forma como manipulamos dados e tomamos decisões nos negócios.\\n\\nVamos começar pelo começo: O que é RAG? RAG (Geração Aumentada por Recuperação) é uma técnica de inteligência artificial que combina o poder de recuperação de informações relevantes em grandes bases de dados com a geração de texto. Basicamente, ele funciona trazendo o melhor de dois mundos: a precisão de dados históricos e contextuais e a criatividade de modelos de linguagem natural, principalmente LLM ou Modelos de Linguagem Grandes como o GPT. Isso permite que sistemas RAG façam recomendações ou gerem respostas muito mais contextualizadas e detalhadas do que um modelo isolado de IA.', 'natural requer uma combinação de técnicas de IA avançadas.\\n\\nEscalabilidade: Em grandes volumes de dados, manter a performance do sistema RAG pode\\n\\nse tornar complexo.\\n\\nAlgumas das principais aplicações do RAG incluem: Automação de Atendimento ao Cliente: Fornece respostas rápidas e contextualizadas para dúvidas de clientes, baseado em informações recuperadas de bases de conhecimento internas; Geração de Documentos Jurídicos: Automação na criação de contratos, baseando-se em exemplos anteriores e gerando novos documentos personalizados; Análise de Dados: Extração de insights valiosos ao combinar dados históricos com novas tendências, proporcionando uma visão completa para tomada de decisões; entre outras.\\n\\nPasso a Passo de Implementação de RAG']]\n"
     ]
    }
   ],
   "source": [
    "print(result['documents'])"
   ]
  },
  {
   "cell_type": "code",
   "execution_count": 45,
   "id": "4601b15e",
   "metadata": {},
   "outputs": [
    {
     "data": {
      "text/plain": [
       "{'ids': [['[<unstructured.documents.elements.Header object at 0x17f9fc9e0>, <unstructured.documents.elements.Title object at 0x17fac9f10>, <unstructured.documents.elements.NarrativeText object at 0x17fb5ac30>, <unstructured.documents.elements.NarrativeText object at 0x17f994aa0>]',\n",
       "   '[<unstructured.documents.elements.Title object at 0x17e8081d0>, <unstructured.documents.elements.ListItem object at 0x17fb63500>, <unstructured.documents.elements.Title object at 0x17fb637d0>, <unstructured.documents.elements.NarrativeText object at 0x17fb6d0a0>, <unstructured.documents.elements.Title object at 0x17f9c7b30>]']],\n",
       " 'embeddings': None,\n",
       " 'documents': [['RAG (Retrieval Augmented Generation) Aplicado à Ciência de Dados\\n\\nOlá! Bem-vindo(a) à nossa newsletter semanal sobre Ciência de Dados!\\n\\nNesta edição, vamos explorar o conceito de RAG (Retrieval Augmented Generation) e como essa tecnologia pode transformar a forma como manipulamos dados e tomamos decisões nos negócios.\\n\\nVamos começar pelo começo: O que é RAG? RAG (Geração Aumentada por Recuperação) é uma técnica de inteligência artificial que combina o poder de recuperação de informações relevantes em grandes bases de dados com a geração de texto. Basicamente, ele funciona trazendo o melhor de dois mundos: a precisão de dados históricos e contextuais e a criatividade de modelos de linguagem natural, principalmente LLM ou Modelos de Linguagem Grandes como o GPT. Isso permite que sistemas RAG façam recomendações ou gerem respostas muito mais contextualizadas e detalhadas do que um modelo isolado de IA.',\n",
       "   'natural requer uma combinação de técnicas de IA avançadas.\\n\\nEscalabilidade: Em grandes volumes de dados, manter a performance do sistema RAG pode\\n\\nse tornar complexo.\\n\\nAlgumas das principais aplicações do RAG incluem: Automação de Atendimento ao Cliente: Fornece respostas rápidas e contextualizadas para dúvidas de clientes, baseado em informações recuperadas de bases de conhecimento internas; Geração de Documentos Jurídicos: Automação na criação de contratos, baseando-se em exemplos anteriores e gerando novos documentos personalizados; Análise de Dados: Extração de insights valiosos ao combinar dados históricos com novas tendências, proporcionando uma visão completa para tomada de decisões; entre outras.\\n\\nPasso a Passo de Implementação de RAG']],\n",
       " 'uris': None,\n",
       " 'included': ['metadatas', 'documents', 'distances'],\n",
       " 'data': None,\n",
       " 'metadatas': [[{'last_modified': '2025-08-06T08:22:22',\n",
       "    'filename': 'RAG_em_CienciaDeDados.pdf',\n",
       "    'languages': 'por',\n",
       "    'page_number': 1,\n",
       "    'file_directory': '/Users/ryan.oliveira/pdf_to_rag/assets',\n",
       "    'orig_elements': 'RAG (Retrieval Augmented Generation) Aplicado à Ciência de Dados,Olá! Bem-vindo(a) à nossa newsletter semanal sobre Ciência de Dados!,Nesta edição, vamos explorar o conceito de RAG (Retrieval Augmented Generation) e como essa tecnologia pode transformar a forma como manipulamos dados e tomamos decisões nos negócios.,Vamos começar pelo começo: O que é RAG? RAG (Geração Aumentada por Recuperação) é uma técnica de inteligência artificial que combina o poder de recuperação de informações relevantes em grandes bases de dados com a geração de texto. Basicamente, ele funciona trazendo o melhor de dois mundos: a precisão de dados históricos e contextuais e a criatividade de modelos de linguagem natural, principalmente LLM ou Modelos de Linguagem Grandes como o GPT. Isso permite que sistemas RAG façam recomendações ou gerem respostas muito mais contextualizadas e detalhadas do que um modelo isolado de IA.',\n",
       "    'filetype': 'application/pdf'},\n",
       "   {'last_modified': '2025-08-06T08:22:22',\n",
       "    'orig_elements': 'natural requer uma combinação de técnicas de IA avançadas.,Escalabilidade: Em grandes volumes de dados, manter a performance do sistema RAG pode,se tornar complexo.,Algumas das principais aplicações do RAG incluem: Automação de Atendimento ao Cliente: Fornece respostas rápidas e contextualizadas para dúvidas de clientes, baseado em informações recuperadas de bases de conhecimento internas; Geração de Documentos Jurídicos: Automação na criação de contratos, baseando-se em exemplos anteriores e gerando novos documentos personalizados; Análise de Dados: Extração de insights valiosos ao combinar dados históricos com novas tendências, proporcionando uma visão completa para tomada de decisões; entre outras.,Passo a Passo de Implementação de RAG',\n",
       "    'page_number': 1,\n",
       "    'filename': 'RAG_em_CienciaDeDados.pdf',\n",
       "    'file_directory': '/Users/ryan.oliveira/pdf_to_rag/assets',\n",
       "    'filetype': 'application/pdf',\n",
       "    'languages': 'por'}]],\n",
       " 'distances': [[0.9171342849731445, 0.9288123250007629]]}"
      ]
     },
     "execution_count": 45,
     "metadata": {},
     "output_type": "execute_result"
    }
   ],
   "source": [
    "{\n",
    "    'ids': [['[<unstructured.documents.elements.Header object at 0x17f9fc9e0>, <unstructured.documents.elements.Title object at 0x17fac9f10>, <unstructured.documents.elements.NarrativeText object at 0x17fb5ac30>, <unstructured.documents.elements.NarrativeText object at 0x17f994aa0>]', '[<unstructured.documents.elements.Title object at 0x17e8081d0>, <unstructured.documents.elements.ListItem object at 0x17fb63500>, <unstructured.documents.elements.Title object at 0x17fb637d0>, <unstructured.documents.elements.NarrativeText object at 0x17fb6d0a0>, <unstructured.documents.elements.Title object at 0x17f9c7b30>]']], \n",
    "    'embeddings': None, \n",
    "    'documents': [\n",
    "        ['RAG (Retrieval Augmented Generation) Aplicado à Ciência de Dados\\n\\nOlá! Bem-vindo(a) à nossa newsletter semanal sobre Ciência de Dados!\\n\\nNesta edição, vamos explorar o conceito de RAG (Retrieval Augmented Generation) e como essa tecnologia pode transformar a forma como manipulamos dados e tomamos decisões nos negócios.\\n\\nVamos começar pelo começo: O que é RAG? RAG (Geração Aumentada por Recuperação) é uma técnica de inteligência artificial que combina o poder de recuperação de informações relevantes em grandes bases de dados com a geração de texto. Basicamente, ele funciona trazendo o melhor de dois mundos: a precisão de dados históricos e contextuais e a criatividade de modelos de linguagem natural, principalmente LLM ou Modelos de Linguagem Grandes como o GPT. Isso permite que sistemas RAG façam recomendações ou gerem respostas muito mais contextualizadas e detalhadas do que um modelo isolado de IA.', \n",
    "        'natural requer uma combinação de técnicas de IA avançadas.\\n\\nEscalabilidade: Em grandes volumes de dados, manter a performance do sistema RAG pode\\n\\nse tornar complexo.\\n\\nAlgumas das principais aplicações do RAG incluem: Automação de Atendimento ao Cliente: Fornece respostas rápidas e contextualizadas para dúvidas de clientes, baseado em informações recuperadas de bases de conhecimento internas; Geração de Documentos Jurídicos: Automação na criação de contratos, baseando-se em exemplos anteriores e gerando novos documentos personalizados; Análise de Dados: Extração de insights valiosos ao combinar dados históricos com novas tendências, proporcionando uma visão completa para tomada de decisões; entre outras.\\n\\nPasso a Passo de Implementação de RAG']\n",
    "        ],\n",
    "    'uris': None, \n",
    "    'included': ['metadatas', 'documents', 'distances'], \n",
    "    'data': None, \n",
    "    'metadatas': [[{'last_modified': '2025-08-06T08:22:22', 'filename': 'RAG_em_CienciaDeDados.pdf', 'languages': 'por', 'page_number': 1, 'file_directory': '/Users/ryan.oliveira/pdf_to_rag/assets', 'orig_elements': 'RAG (Retrieval Augmented Generation) Aplicado à Ciência de Dados,Olá! Bem-vindo(a) à nossa newsletter semanal sobre Ciência de Dados!,Nesta edição, vamos explorar o conceito de RAG (Retrieval Augmented Generation) e como essa tecnologia pode transformar a forma como manipulamos dados e tomamos decisões nos negócios.,Vamos começar pelo começo: O que é RAG? RAG (Geração Aumentada por Recuperação) é uma técnica de inteligência artificial que combina o poder de recuperação de informações relevantes em grandes bases de dados com a geração de texto. Basicamente, ele funciona trazendo o melhor de dois mundos: a precisão de dados históricos e contextuais e a criatividade de modelos de linguagem natural, principalmente LLM ou Modelos de Linguagem Grandes como o GPT. Isso permite que sistemas RAG façam recomendações ou gerem respostas muito mais contextualizadas e detalhadas do que um modelo isolado de IA.', 'filetype': 'application/pdf'}, {'last_modified': '2025-08-06T08:22:22', 'orig_elements': 'natural requer uma combinação de técnicas de IA avançadas.,Escalabilidade: Em grandes volumes de dados, manter a performance do sistema RAG pode,se tornar complexo.,Algumas das principais aplicações do RAG incluem: Automação de Atendimento ao Cliente: Fornece respostas rápidas e contextualizadas para dúvidas de clientes, baseado em informações recuperadas de bases de conhecimento internas; Geração de Documentos Jurídicos: Automação na criação de contratos, baseando-se em exemplos anteriores e gerando novos documentos personalizados; Análise de Dados: Extração de insights valiosos ao combinar dados históricos com novas tendências, proporcionando uma visão completa para tomada de decisões; entre outras.,Passo a Passo de Implementação de RAG', 'page_number': 1, 'filename': 'RAG_em_CienciaDeDados.pdf', 'file_directory': '/Users/ryan.oliveira/pdf_to_rag/assets', 'filetype': 'application/pdf', 'languages': 'por'}]], \n",
    "    'distances': [[0.9171342849731445, 0.9288123250007629]]\n",
    "}"
   ]
  }
 ],
 "metadata": {
  "kernelspec": {
   "display_name": "venv",
   "language": "python",
   "name": "python3"
  },
  "language_info": {
   "codemirror_mode": {
    "name": "ipython",
    "version": 3
   },
   "file_extension": ".py",
   "mimetype": "text/x-python",
   "name": "python",
   "nbconvert_exporter": "python",
   "pygments_lexer": "ipython3",
   "version": "3.12.9"
  }
 },
 "nbformat": 4,
 "nbformat_minor": 5
}
