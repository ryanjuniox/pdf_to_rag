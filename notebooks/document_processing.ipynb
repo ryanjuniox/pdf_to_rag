{
 "cells": [
  {
   "cell_type": "code",
   "execution_count": 25,
   "id": "dd75f050",
   "metadata": {},
   "outputs": [
    {
     "name": "stderr",
     "output_type": "stream",
     "text": [
      "\n",
      "A module that was compiled using NumPy 1.x cannot be run in\n",
      "NumPy 2.2.6 as it may crash. To support both 1.x and 2.x\n",
      "versions of NumPy, modules must be compiled with NumPy 2.0.\n",
      "Some module may need to rebuild instead e.g. with 'pybind11>=2.12'.\n",
      "\n",
      "If you are a user of the module, the easiest solution will be to\n",
      "downgrade to 'numpy<2' or try to upgrade the affected module.\n",
      "We expect that some modules will need time to support NumPy 2.\n",
      "\n",
      "Traceback (most recent call last):  File \"<frozen runpy>\", line 198, in _run_module_as_main\n",
      "  File \"<frozen runpy>\", line 88, in _run_code\n",
      "  File \"/Users/ryan.oliveira/pdf_to_rag/venv/lib/python3.12/site-packages/ipykernel_launcher.py\", line 18, in <module>\n",
      "    app.launch_new_instance()\n",
      "  File \"/Users/ryan.oliveira/pdf_to_rag/venv/lib/python3.12/site-packages/traitlets/config/application.py\", line 1075, in launch_instance\n",
      "    app.start()\n",
      "  File \"/Users/ryan.oliveira/pdf_to_rag/venv/lib/python3.12/site-packages/ipykernel/kernelapp.py\", line 739, in start\n",
      "    self.io_loop.start()\n",
      "  File \"/Users/ryan.oliveira/pdf_to_rag/venv/lib/python3.12/site-packages/tornado/platform/asyncio.py\", line 211, in start\n",
      "    self.asyncio_loop.run_forever()\n",
      "  File \"/usr/local/Caskroom/miniconda/base/lib/python3.12/asyncio/base_events.py\", line 645, in run_forever\n",
      "    self._run_once()\n",
      "  File \"/usr/local/Caskroom/miniconda/base/lib/python3.12/asyncio/base_events.py\", line 1999, in _run_once\n",
      "    handle._run()\n",
      "  File \"/usr/local/Caskroom/miniconda/base/lib/python3.12/asyncio/events.py\", line 88, in _run\n",
      "    self._context.run(self._callback, *self._args)\n",
      "  File \"/Users/ryan.oliveira/pdf_to_rag/venv/lib/python3.12/site-packages/ipykernel/kernelbase.py\", line 519, in dispatch_queue\n",
      "    await self.process_one()\n",
      "  File \"/Users/ryan.oliveira/pdf_to_rag/venv/lib/python3.12/site-packages/ipykernel/kernelbase.py\", line 508, in process_one\n",
      "    await dispatch(*args)\n",
      "  File \"/Users/ryan.oliveira/pdf_to_rag/venv/lib/python3.12/site-packages/ipykernel/kernelbase.py\", line 400, in dispatch_shell\n",
      "    await result\n",
      "  File \"/Users/ryan.oliveira/pdf_to_rag/venv/lib/python3.12/site-packages/ipykernel/ipkernel.py\", line 368, in execute_request\n",
      "    await super().execute_request(stream, ident, parent)\n",
      "  File \"/Users/ryan.oliveira/pdf_to_rag/venv/lib/python3.12/site-packages/ipykernel/kernelbase.py\", line 767, in execute_request\n",
      "    reply_content = await reply_content\n",
      "  File \"/Users/ryan.oliveira/pdf_to_rag/venv/lib/python3.12/site-packages/ipykernel/ipkernel.py\", line 455, in do_execute\n",
      "    res = shell.run_cell(\n",
      "  File \"/Users/ryan.oliveira/pdf_to_rag/venv/lib/python3.12/site-packages/ipykernel/zmqshell.py\", line 577, in run_cell\n",
      "    return super().run_cell(*args, **kwargs)\n",
      "  File \"/Users/ryan.oliveira/pdf_to_rag/venv/lib/python3.12/site-packages/IPython/core/interactiveshell.py\", line 3116, in run_cell\n",
      "    result = self._run_cell(\n",
      "  File \"/Users/ryan.oliveira/pdf_to_rag/venv/lib/python3.12/site-packages/IPython/core/interactiveshell.py\", line 3171, in _run_cell\n",
      "    result = runner(coro)\n",
      "  File \"/Users/ryan.oliveira/pdf_to_rag/venv/lib/python3.12/site-packages/IPython/core/async_helpers.py\", line 128, in _pseudo_sync_runner\n",
      "    coro.send(None)\n",
      "  File \"/Users/ryan.oliveira/pdf_to_rag/venv/lib/python3.12/site-packages/IPython/core/interactiveshell.py\", line 3394, in run_cell_async\n",
      "    has_raised = await self.run_ast_nodes(code_ast.body, cell_name,\n",
      "  File \"/Users/ryan.oliveira/pdf_to_rag/venv/lib/python3.12/site-packages/IPython/core/interactiveshell.py\", line 3639, in run_ast_nodes\n",
      "    if await self.run_code(code, result, async_=asy):\n",
      "  File \"/Users/ryan.oliveira/pdf_to_rag/venv/lib/python3.12/site-packages/IPython/core/interactiveshell.py\", line 3699, in run_code\n",
      "    exec(code_obj, self.user_global_ns, self.user_ns)\n",
      "  File \"/var/folders/p1/vrkk65316532v7sjv657d7pc0000gq/T/ipykernel_5162/1441368883.py\", line 6, in <module>\n",
      "    elements = partition(pdf_path)\n",
      "  File \"/Users/ryan.oliveira/pdf_to_rag/venv/lib/python3.12/site-packages/unstructured/partition/auto.py\", line 211, in partition\n",
      "    partition_pdf = partitioner_loader.get(file_type)\n",
      "  File \"/Users/ryan.oliveira/pdf_to_rag/venv/lib/python3.12/site-packages/unstructured/partition/auto.py\", line 364, in get\n",
      "    self._partitioners[file_type] = self._load_partitioner(file_type)\n",
      "  File \"/Users/ryan.oliveira/pdf_to_rag/venv/lib/python3.12/site-packages/unstructured/partition/auto.py\", line 382, in _load_partitioner\n",
      "    partitioner_module = importlib.import_module(file_type.partitioner_module_qname)\n",
      "  File \"/usr/local/Caskroom/miniconda/base/lib/python3.12/importlib/__init__.py\", line 90, in import_module\n",
      "    return _bootstrap._gcd_import(name[level:], package, level)\n",
      "  File \"/Users/ryan.oliveira/pdf_to_rag/venv/lib/python3.12/site-packages/unstructured/partition/pdf.py\", line 19, in <module>\n",
      "    from unstructured_inference.inference.layout import DocumentLayout\n",
      "  File \"/Users/ryan.oliveira/pdf_to_rag/venv/lib/python3.12/site-packages/unstructured_inference/inference/layout.py\", line 18, in <module>\n",
      "    from unstructured_inference.models.base import get_model\n",
      "  File \"/Users/ryan.oliveira/pdf_to_rag/venv/lib/python3.12/site-packages/unstructured_inference/models/base.py\", line 8, in <module>\n",
      "    from unstructured_inference.models.detectron2onnx import (\n",
      "  File \"/Users/ryan.oliveira/pdf_to_rag/venv/lib/python3.12/site-packages/unstructured_inference/models/detectron2onnx.py\", line 9, in <module>\n",
      "    from onnxruntime.quantization import QuantType, quantize_dynamic\n",
      "  File \"/Users/ryan.oliveira/pdf_to_rag/venv/lib/python3.12/site-packages/onnxruntime/quantization/__init__.py\", line 19, in <module>\n",
      "    from .shape_inference import quant_pre_process  # noqa: F401\n",
      "  File \"/Users/ryan.oliveira/pdf_to_rag/venv/lib/python3.12/site-packages/onnxruntime/quantization/shape_inference.py\", line 16, in <module>\n",
      "    from onnxruntime.tools.symbolic_shape_infer import SymbolicShapeInference\n",
      "  File \"/Users/ryan.oliveira/pdf_to_rag/venv/lib/python3.12/site-packages/onnxruntime/tools/__init__.py\", line 10, in <module>\n",
      "    from .pytorch_export_helpers import infer_input_info  # noqa: F401\n",
      "  File \"/Users/ryan.oliveira/pdf_to_rag/venv/lib/python3.12/site-packages/onnxruntime/tools/pytorch_export_helpers.py\", line 7, in <module>\n",
      "    import torch\n",
      "  File \"/Users/ryan.oliveira/pdf_to_rag/venv/lib/python3.12/site-packages/torch/__init__.py\", line 1477, in <module>\n",
      "    from .functional import *  # noqa: F403\n",
      "  File \"/Users/ryan.oliveira/pdf_to_rag/venv/lib/python3.12/site-packages/torch/functional.py\", line 9, in <module>\n",
      "    import torch.nn.functional as F\n",
      "  File \"/Users/ryan.oliveira/pdf_to_rag/venv/lib/python3.12/site-packages/torch/nn/__init__.py\", line 1, in <module>\n",
      "    from .modules import *  # noqa: F403\n",
      "  File \"/Users/ryan.oliveira/pdf_to_rag/venv/lib/python3.12/site-packages/torch/nn/modules/__init__.py\", line 35, in <module>\n",
      "    from .transformer import TransformerEncoder, TransformerDecoder, \\\n",
      "  File \"/Users/ryan.oliveira/pdf_to_rag/venv/lib/python3.12/site-packages/torch/nn/modules/transformer.py\", line 20, in <module>\n",
      "    device: torch.device = torch.device(torch._C._get_default_device()),  # torch.device('cpu'),\n",
      "/Users/ryan.oliveira/pdf_to_rag/venv/lib/python3.12/site-packages/torch/nn/modules/transformer.py:20: UserWarning: Failed to initialize NumPy: _ARRAY_API not found (Triggered internally at /Users/runner/work/pytorch/pytorch/pytorch/torch/csrc/utils/tensor_numpy.cpp:84.)\n",
      "  device: torch.device = torch.device(torch._C._get_default_device()),  # torch.device('cpu'),\n",
      "/Users/ryan.oliveira/pdf_to_rag/venv/lib/python3.12/site-packages/tqdm/auto.py:21: TqdmWarning: IProgress not found. Please update jupyter and ipywidgets. See https://ipywidgets.readthedocs.io/en/stable/user_install.html\n",
      "  from .autonotebook import tqdm as notebook_tqdm\n"
     ]
    },
    {
     "name": "stdout",
     "output_type": "stream",
     "text": [
      "Warning: No languages specified, defaulting to English.\n"
     ]
    }
   ],
   "source": [
    "import os\n",
    "from unstructured.partition.auto import partition\n",
    "\n",
    "pdf_path = os.path.expanduser(\"~/pdf_to_rag/assets/RAG_em_CienciaDeDados.pdf\")\n",
    "elements = partition(pdf_path)"
   ]
  },
  {
   "cell_type": "code",
   "execution_count": 26,
   "id": "a45127e9",
   "metadata": {},
   "outputs": [
    {
     "name": "stdout",
     "output_type": "stream",
     "text": [
      "Paragraph 1:\n",
      "Nesta edição, vamos explorar o conceito de RAG (Retrieval Augmented Generation) e como essa tecnologia pode transformar a forma como manipulamos dados e tomamos decisões nos negócios.\n",
      "\n",
      "Paragraph 2:\n",
      "Vamos começar pelo começo: O que é RAG? RAG (Geração Aumentada por Recuperação) é uma técnica de inteligência artificial que combina o poder de recuperação de informações relevantes em grandes bases de dados com a geração de texto. Basicamente, ele funciona trazendo o melhor de dois mundos: a precisão de dados históricos e contextuais e a criatividade de modelos de linguagem natural, principalmente LLM ou Modelos de Linguagem Grandes como o GPT. Isso permite que sistemas RAG façam recomendações ou gerem respostas muito mais contextualizadas e detalhadas do que um modelo isolado de IA.\n",
      "\n",
      "Paragraph 3:\n",
      "Por que o RAG é importante para a Ciência de Dados e Negócios? A principal vantagem do RAG é que ele oferece respostas mais precisas e contextualizadas ao extrair informações relevantes de fontes específicas e usá-las para melhorar a geração de texto. Na área de ciência de dados, onde o volume de informações pode ser vasto e complexo, o RAG permite extrair insights que vão além do que um modelo tradicional de IA poderia alcançar sozinho. Para as empresas, isso representa um salto na qualidade das tomadas de decisão, já que a capacidade de recuperar informações com precisão permite que dados históricos e atuais sejam utilizados de maneira estratégica.\n",
      "\n",
      "Paragraph 4:\n",
      "Embora o RAG ofereça muitas vantagens, ele também apresenta alguns desafios:\n",
      "\n",
      "Paragraph 5:\n",
      "Algumas das principais aplicações do RAG incluem: Automação de Atendimento ao Cliente: Fornece respostas rápidas e contextualizadas para dúvidas de clientes, baseado em informações recuperadas de bases de conhecimento internas; Geração de Documentos Jurídicos: Automação na criação de contratos, baseando-se em exemplos anteriores e gerando novos documentos personalizados; Análise de Dados: Extração de insights valiosos ao combinar dados históricos com novas tendências, proporcionando uma visão completa para tomada de decisões; entre outras.\n",
      "\n"
     ]
    }
   ],
   "source": [
    "paragraphs = [el for el in elements if el.category == \"NarrativeText\"]\n",
    "for i, paragraph in enumerate(paragraphs[:5]):\n",
    "    print(f\"Paragraph {i+1}:\\n{paragraph.text}\\n\")"
   ]
  },
  {
   "cell_type": "code",
   "execution_count": 27,
   "id": "c57e6d29",
   "metadata": {},
   "outputs": [
    {
     "name": "stdout",
     "output_type": "stream",
     "text": [
      "{'text': 'Nesta edição, vamos explorar o conceito de RAG (Retrieval Augmented Generation) e como essa tecnologia pode transformar a forma como manipulamos dados e tomamos decisões nos negócios.', 'embeddings': None, '_element_id': '0a69dbb5a1ad8d51199d3a77641ef2f5', 'metadata': <unstructured.documents.elements.ElementMetadata object at 0x1403c1010>}\n"
     ]
    }
   ],
   "source": [
    "print(vars(paragraphs[0]))"
   ]
  },
  {
   "cell_type": "code",
   "execution_count": null,
   "id": "9cf286e4",
   "metadata": {},
   "outputs": [],
   "source": [
    "vars_paragraph = {\n",
    "    'text': 'Nesta edição, vamos explorar o conceito de RAG (Retrieval Augmented Generation) e como essa tecnologia pode transformar a forma como manipulamos dados e tomamos decisões nos negócios.',\n",
    "    'embeddings': None,\n",
    "    '_element_id': '0a69dbb5a1ad8d51199d3a77641ef2f5',\n",
    "    'metadata': \"<unstructured.documents.elements.ElementMetadata object at 0x1403c1010>\"\n",
    "}"
   ]
  },
  {
   "cell_type": "code",
   "execution_count": 29,
   "id": "1c5906bb",
   "metadata": {},
   "outputs": [
    {
     "name": "stdout",
     "output_type": "stream",
     "text": [
      "{'coordinates': CoordinatesMetadata(points=((36.0, 94.24400000000003), (36.0, 123.28399999999999), (561.82, 123.28399999999999), (561.82, 94.24400000000003)), system=<unstructured.documents.coordinates.PixelSpace object at 0x1402b4e90>), 'file_directory': '/Users/ryan.oliveira/pdf_to_rag/assets', 'filename': 'RAG_em_CienciaDeDados.pdf', 'last_modified': '2025-08-06T08:22:22', 'links': [], 'page_number': 1, 'languages': ['por'], '_known_field_names': frozenset({'detection_class_prob', 'header_footer_type', 'text_as_html', 'filetype', 'page_name', 'links', 'image_path', 'image_mime_type', 'link_start_indexes', 'sent_from', 'link_urls', 'cc_recipient', 'subject', 'signature', 'is_continuation', 'filename', 'emphasized_text_contents', 'url', 'data_source', 'sent_to', 'last_modified', 'email_message_id', 'parent_id', 'languages', 'coordinates', 'category_depth', 'emphasized_text_tags', 'image_url', 'key_value_pairs', 'table_as_cells', 'file_directory', 'page_number', 'image_base64', 'detection_origin', 'orig_elements', 'attached_to_filename', 'link_texts', 'bcc_recipient'}), 'filetype': 'application/pdf', 'parent_id': '01ca41a6dcf3acc477735e9f013083f2'}\n"
     ]
    }
   ],
   "source": [
    "metadata = paragraphs[0].metadata\n",
    "print(vars(metadata))"
   ]
  },
  {
   "cell_type": "code",
   "execution_count": null,
   "id": "69f647f5",
   "metadata": {},
   "outputs": [],
   "source": [
    "metadata_paragraph = {\n",
    "    'coordinates': \"CoordinatesMetadata(points=((36.0, 94.24400000000003), (36.0, 123.28399999999999), (561.82, 123.28399999999999), (561.82, 94.24400000000003)), system=<unstructured.documents.coordinates.PixelSpace object at 0x1402b4e90>)\",\n",
    "    'file_directory': '/Users/ryan.oliveira/pdf_to_rag/assets',\n",
    "    'filename': 'RAG_em_CienciaDeDados.pdf',\n",
    "    'last_modified': '2025-08-06T08:22:22',\n",
    "    'links': [],\n",
    "    'page_number': 1,\n",
    "    'languages': ['por'],\n",
    "    '_known_field_names': frozenset({'detection_class_prob', 'header_footer_type', 'text_as_html', 'filetype', 'page_name', 'links', 'image_path', 'image_mime_type', 'link_start_indexes', 'sent_from', 'link_urls', 'cc_recipient', 'subject', 'signature', 'is_continuation', 'filename', 'emphasized_text_contents', 'url', 'data_source', 'sent_to', 'last_modified', 'email_message_id', 'parent_id', 'languages', 'coordinates', 'category_depth', 'emphasized_text_tags', 'image_url', 'key_value_pairs', 'table_as_cells', 'file_directory', 'page_number', 'image_base64', 'detection_origin', 'orig_elements', 'attached_to_filename', 'link_texts', 'bcc_recipient'}),\n",
    "    'filetype': 'application/pdf',\n",
    "    'parent_id': '01ca41a6dcf3acc477735e9f013083f2'\n",
    "}"
   ]
  },
  {
   "cell_type": "code",
   "execution_count": 30,
   "id": "9a12c879",
   "metadata": {},
   "outputs": [],
   "source": [
    "from pydantic import BaseModel\n",
    "\n",
    "class MetadataModel(BaseModel):\n",
    "    coordinates: str\n",
    "    file_directory: str\n",
    "    filename: str\n",
    "    last_modified: str\n",
    "    links: list\n",
    "    page_number: int\n",
    "    languages: list\n",
    "    _known_field_names: frozenset\n",
    "    filetype: str\n",
    "    parent_id: str\n",
    "\n",
    "class ParagraphModel(BaseModel):\n",
    "    text: str\n",
    "    embeddings: None\n",
    "    _element_id: str\n",
    "    metadata: MetadataModel"
   ]
  },
  {
   "cell_type": "code",
   "execution_count": 34,
   "id": "70d0e9e7",
   "metadata": {},
   "outputs": [],
   "source": [
    "paragraph_models = []\n",
    "for paragraph in paragraphs: \n",
    "    metadata_dict = vars(paragraph.metadata)\n",
    "\n",
    "    if not isinstance(metadata_dict['coordinates'], str):\n",
    "        metadata_dict['coordinates'] = str(metadata_dict['coordinates'])\n",
    "    \n",
    "    metadata_model = MetadataModel(**metadata_dict)\n",
    "    \n",
    "    paragraph_model = ParagraphModel(\n",
    "        text=paragraph.text,\n",
    "        embeddings=getattr(paragraph, \"embeddings\", None),\n",
    "        _element_id=getattr(paragraph, \"_element_id\", \"\"),\n",
    "        metadata=metadata_model\n",
    "    )\n",
    "\n",
    "    paragraph_models.append(paragraph_model)"
   ]
  },
  {
   "cell_type": "code",
   "execution_count": 40,
   "id": "e99e4402",
   "metadata": {},
   "outputs": [
    {
     "name": "stdout",
     "output_type": "stream",
     "text": [
      "Text: Nesta edição, vamos explorar o conceito de RAG (Retrieval Augmented Generation) e como essa tecnologia pode transformar a forma como manipulamos dados e tomamos decisões nos negócios.\n",
      "Page Number: 1\n",
      "File Directory: /Users/ryan.oliveira/pdf_to_rag/assets\n",
      "Filename: RAG_em_CienciaDeDados.pdf\n",
      "Languages: ['por']\n"
     ]
    }
   ],
   "source": [
    "print(f\"Text: {paragraph_models[0].text}\")\n",
    "print(f\"Page Number: {paragraph_models[0].metadata.page_number}\")\n",
    "print(f\"File Directory: {paragraph_models[0].metadata.file_directory}\")\n",
    "print(f\"Filename: {paragraph_models[0].metadata.filename}\")\n",
    "print(f\"Languages: {paragraph_models[0].metadata.languages}\")"
   ]
  }
 ],
 "metadata": {
  "kernelspec": {
   "display_name": "venv",
   "language": "python",
   "name": "python3"
  },
  "language_info": {
   "codemirror_mode": {
    "name": "ipython",
    "version": 3
   },
   "file_extension": ".py",
   "mimetype": "text/x-python",
   "name": "python",
   "nbconvert_exporter": "python",
   "pygments_lexer": "ipython3",
   "version": "3.12.9"
  }
 },
 "nbformat": 4,
 "nbformat_minor": 5
}
